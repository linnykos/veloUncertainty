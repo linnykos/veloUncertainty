{
 "cells": [
  {
   "cell_type": "code",
   "execution_count": null,
   "metadata": {},
   "outputs": [],
   "source": [
    "# scvelo virtual environment\n",
    "\n",
    "import scvelo as scv\n",
    "import numpy as np\n",
    "import scanpy as sc\n",
    "import math"
   ]
  },
  {
   "cell_type": "code",
   "execution_count": null,
   "metadata": {},
   "outputs": [],
   "source": [
    "import subprocess\n",
    "\n",
    "# List all installed packages with their versions\n",
    "def list_installed_packages():\n",
    "    result = subprocess.run(['pip', 'list'], stdout=subprocess.PIPE)\n",
    "    print(result.stdout.decode('utf-8'))\n",
    "\n",
    "# List all installed packages with their versions in requirements format\n",
    "def freeze_installed_packages():\n",
    "    result = subprocess.run(['pip', 'freeze'], stdout=subprocess.PIPE)\n",
    "    print(result.stdout.decode('utf-8'))\n",
    "\n",
    "# Execute the functions\n",
    "list_installed_packages()\n",
    "freeze_installed_packages()\n"
   ]
  },
  {
   "cell_type": "code",
   "execution_count": null,
   "metadata": {},
   "outputs": [],
   "source": [
    "def generate_negative_binomial_matrix(mean_matrix, overdispersion):\n",
    "    # Ensure overdispersion is positive\n",
    "    if overdispersion <= 0:\n",
    "        raise ValueError(\"Overdispersion parameter must be positive.\")\n",
    "    \n",
    "    # Calculate the parameters r and p for each element in the matrix\n",
    "    r_matrix = np.full(mean_matrix.shape, overdispersion)\n",
    "    p_matrix = r_matrix / (r_matrix + mean_matrix)\n",
    "    \n",
    "    # Generate the negative binomial random variables for each element in the matrix\n",
    "    negative_binomial_matrix = np.random.negative_binomial(r_matrix, p_matrix)\n",
    "    \n",
    "    return negative_binomial_matrix"
   ]
  },
  {
   "cell_type": "code",
   "execution_count": null,
   "metadata": {},
   "outputs": [],
   "source": [
    "def generate_data(alpha,\n",
    "                  beta,\n",
    "                  gamma,\n",
    "                  max_thre,\n",
    "                  n_obs,\n",
    "                  n_vars,\n",
    "                  noise_level,\n",
    "                  overdispersion,\n",
    "                  seed,\n",
    "                  t_max):\n",
    "    # generate S with Gaussian noise\n",
    "    adata = scv.datasets.simulation(n_obs=n_obs,\n",
    "                                    n_vars=n_vars,\n",
    "                                    t_max=t_max,\n",
    "                                    alpha=alpha,\n",
    "                                    beta=beta,\n",
    "                                    gamma=gamma,\n",
    "                                    noise_level=noise_level,\n",
    "                                    random_seed=seed)\n",
    "    S = adata.layers['spliced']\n",
    "    U = adata.layers['unspliced']\n",
    "    adata.layers['true_velocity'] = beta*U-gamma*S\n",
    "    S_lam = math.e**(math.log(max_thre)*S/np.max(S)) - 1\n",
    "    U_lam = math.e**(math.log(max_thre)*U/np.max(U)) - 1\n",
    "\n",
    "    np.random.seed(seed)\n",
    "    S_poi = generate_negative_binomial_matrix(mean_matrix=S_lam,\n",
    "                                             overdispersion=overdispersion)\n",
    "    U_poi = generate_negative_binomial_matrix(mean_matrix=U_lam,\n",
    "                                             overdispersion=overdispersion)\n",
    "    adata.layers['spliced'] = S_poi.copy()\n",
    "    adata.layers['unspliced'] = U_poi.copy()\n",
    "    adata.X = S_poi.copy() # need to make sure X is the same as spliced matrix\n",
    "\n",
    "    # List of quantiles you want to find\n",
    "    quantiles = [0,0.1,0.2,0.3,0.4,0.5,0.6,0.7,0.8,0.9,1]\n",
    "    # Find the quantiles of the flattened array\n",
    "    quantile_results = np.quantile(adata.X, quantiles)\n",
    "    print(f\"The quantiles {quantiles} of the matrix are: {quantile_results}\")\n",
    "\n",
    "    # https://github.com/theislab/scvelo/issues/1212 \n",
    "    \n",
    "    scv.pp.log1p(adata)\n",
    "    sc.pp.pca(adata)\n",
    "    sc.pp.neighbors(adata, n_pcs=30, n_neighbors=30)\n",
    "    scv.pp.moments(adata, n_pcs=None, n_neighbors=None)\n",
    "\n",
    "    return adata\n"
   ]
  },
  {
   "cell_type": "code",
   "execution_count": null,
   "metadata": {},
   "outputs": [],
   "source": [
    "n_obs = 1000\n",
    "n_vars = 100\n",
    "t_max = 25\n",
    "alpha = 5\n",
    "beta = .3\n",
    "gamma = .5\n",
    "noise_level = 2\n",
    "seed = 520\n",
    "max_thre = 100\n",
    "overdispersion = 1000 # the larger means the more like a Poisson"
   ]
  },
  {
   "cell_type": "markdown",
   "metadata": {},
   "source": [
    "# True velocity"
   ]
  },
  {
   "cell_type": "code",
   "execution_count": null,
   "metadata": {},
   "outputs": [],
   "source": [
    "data = generate_data(alpha=alpha,\n",
    "                     beta=beta,\n",
    "                     gamma=gamma,\n",
    "                     max_thre=max_thre,\n",
    "                     n_obs=n_obs,\n",
    "                     n_vars=n_vars,\n",
    "                     noise_level=noise_level,\n",
    "                     overdispersion=overdispersion,\n",
    "                     seed=seed,\n",
    "                     t_max=t_max)"
   ]
  },
  {
   "cell_type": "code",
   "execution_count": null,
   "metadata": {},
   "outputs": [],
   "source": [
    "scv.tl.recover_dynamics(data,t_max=25)\n",
    "scv.tl.velocity_graph(data,vkey=\"true_velocity\")"
   ]
  },
  {
   "cell_type": "code",
   "execution_count": null,
   "metadata": {},
   "outputs": [],
   "source": [
    "scv.pl.velocity_embedding_grid(data,\n",
    "                               basis='pca',\n",
    "                               color=\"true_t\",\n",
    "                               vkey=\"true_velocity\",\n",
    "                               arrow_length=2,\n",
    "                               arrow_size=2,\n",
    "                               min_mass=10)"
   ]
  },
  {
   "cell_type": "code",
   "execution_count": null,
   "metadata": {},
   "outputs": [],
   "source": [
    "scv.pl.velocity_embedding_stream(data,\n",
    "                               basis='pca',\n",
    "                               color=\"true_t\",\n",
    "                               vkey=\"true_velocity\")"
   ]
  },
  {
   "cell_type": "markdown",
   "metadata": {},
   "source": [
    "# Now for scVelo"
   ]
  },
  {
   "cell_type": "code",
   "execution_count": null,
   "metadata": {},
   "outputs": [],
   "source": [
    "data2 = generate_data(alpha=alpha,\n",
    "                      beta=beta,\n",
    "                      gamma=gamma,\n",
    "                      max_thre=max_thre,\n",
    "                      n_obs=n_obs,\n",
    "                      n_vars=n_vars,\n",
    "                      noise_level=noise_level,\n",
    "                      overdispersion=overdispersion,\n",
    "                      seed=seed,\n",
    "                      t_max=t_max)"
   ]
  },
  {
   "cell_type": "code",
   "execution_count": null,
   "metadata": {},
   "outputs": [],
   "source": [
    "scv.tl.recover_dynamics(data2)"
   ]
  },
  {
   "cell_type": "code",
   "execution_count": null,
   "metadata": {},
   "outputs": [],
   "source": [
    "scv.tl.velocity(data2, mode='dynamical')"
   ]
  },
  {
   "cell_type": "code",
   "execution_count": null,
   "metadata": {},
   "outputs": [],
   "source": [
    "scv.tl.velocity_graph(data2)"
   ]
  },
  {
   "cell_type": "code",
   "execution_count": null,
   "metadata": {},
   "outputs": [],
   "source": [
    "scv.pl.velocity_embedding_grid(data2,\n",
    "                               basis='pca',\n",
    "                               color=\"true_t\",\n",
    "                               arrow_length=2,\n",
    "                               arrow_size=2,\n",
    "                               min_mass=10)"
   ]
  },
  {
   "cell_type": "code",
   "execution_count": null,
   "metadata": {},
   "outputs": [],
   "source": [
    "scv.pl.velocity_embedding_stream(data2,\n",
    "                               basis='pca',\n",
    "                               color=\"true_t\")"
   ]
  },
  {
   "cell_type": "code",
   "execution_count": null,
   "metadata": {},
   "outputs": [],
   "source": [
    "scv.tl.velocity_confidence(data2)\n",
    "keys = 'velocity_confidence'\n",
    "scv.pl.scatter(data2, c=keys, cmap='coolwarm', perc=[5, 95])"
   ]
  }
 ],
 "metadata": {
  "kernelspec": {
   "display_name": "scvelo",
   "language": "python",
   "name": "python3"
  },
  "language_info": {
   "codemirror_mode": {
    "name": "ipython",
    "version": 3
   },
   "file_extension": ".py",
   "mimetype": "text/x-python",
   "name": "python",
   "nbconvert_exporter": "python",
   "pygments_lexer": "ipython3",
   "version": "3.9.19"
  }
 },
 "nbformat": 4,
 "nbformat_minor": 2
}
