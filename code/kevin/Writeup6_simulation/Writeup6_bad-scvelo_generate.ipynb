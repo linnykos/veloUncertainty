{
 "cells": [
  {
   "cell_type": "code",
   "execution_count": null,
   "metadata": {},
   "outputs": [],
   "source": [
    "# scvelo virtual environment\n",
    "\n",
    "import scvelo as scv\n",
    "import numpy as np\n",
    "import scanpy as sc\n",
    "import math"
   ]
  },
  {
   "cell_type": "code",
   "execution_count": null,
   "metadata": {},
   "outputs": [],
   "source": [
    "import subprocess\n",
    "\n",
    "# List all installed packages with their versions\n",
    "def list_installed_packages():\n",
    "    result = subprocess.run(['pip', 'list'], stdout=subprocess.PIPE)\n",
    "    print(result.stdout.decode('utf-8'))\n",
    "\n",
    "# List all installed packages with their versions in requirements format\n",
    "def freeze_installed_packages():\n",
    "    result = subprocess.run(['pip', 'freeze'], stdout=subprocess.PIPE)\n",
    "    print(result.stdout.decode('utf-8'))\n",
    "\n",
    "# Execute the functions\n",
    "list_installed_packages()\n",
    "freeze_installed_packages()\n"
   ]
  },
  {
   "cell_type": "code",
   "execution_count": null,
   "metadata": {},
   "outputs": [],
   "source": [
    "n_obs = 1000\n",
    "n_vars = 20\n",
    "t_max = 25\n",
    "alpha = 1.5\n",
    "beta = .2\n",
    "gamma = .1\n",
    "noise_level = 3.5\n",
    "seed = 520\n",
    "max_thre = 100\n",
    "\n",
    "# generate S with Gaussian noise\n",
    "data = scv.datasets.simulation(n_obs=n_obs,\n",
    "                               n_vars=n_vars,\n",
    "                               t_max=t_max,\n",
    "                               alpha=alpha,\n",
    "                               beta=beta,\n",
    "                               gamma=gamma,\n",
    "                               noise_level=noise_level,\n",
    "                               random_seed=seed)\n",
    "S = data.layers['spliced']\n",
    "U = data.layers['unspliced']\n",
    "data.layers['true_velocity'] = beta*U-gamma*S\n",
    "S_lam = math.e**(math.log(max_thre)*S/np.max(S)) - 1\n",
    "U_lam = math.e**(math.log(max_thre)*U/np.max(U)) - 1\n",
    "\n",
    "np.random.seed(929)\n",
    "S_poi = np.random.poisson(lam=[s for s in S_lam])\n",
    "U_poi = np.random.poisson(lam=[u for u in U_lam])\n",
    "data.layers['spliced'] = S_poi.copy()\n",
    "data.layers['unspliced'] = U_poi.copy()\n",
    "data.X = S_poi.copy() # need to make sure X is the same as spliced matrix"
   ]
  },
  {
   "cell_type": "code",
   "execution_count": null,
   "metadata": {},
   "outputs": [],
   "source": [
    "# https://github.com/theislab/scvelo/issues/1212\n",
    "\n",
    "scv.pp.log1p(data)\n",
    "sc.pp.pca(data)\n",
    "sc.pp.neighbors(data, n_pcs=30, n_neighbors=30)\n",
    "scv.pp.moments(data, n_pcs=None, n_neighbors=None)\n",
    "scv.tl.recover_dynamics(data,t_max=25)\n",
    "scv.tl.velocity_graph(data,vkey=\"true_velocity\")"
   ]
  },
  {
   "cell_type": "code",
   "execution_count": null,
   "metadata": {},
   "outputs": [],
   "source": [
    "scv.pl.velocity_embedding_grid(data,\n",
    "                               basis='pca',\n",
    "                               color=\"true_t\",\n",
    "                               vkey=\"true_velocity\",\n",
    "                               arrow_length=2,\n",
    "                               arrow_size=2,\n",
    "                               min_mass=10)"
   ]
  },
  {
   "cell_type": "code",
   "execution_count": null,
   "metadata": {},
   "outputs": [],
   "source": [
    "scv.pl.velocity_embedding_stream(data,\n",
    "                               basis='pca',\n",
    "                               color=\"true_t\",\n",
    "                               vkey=\"true_velocity\")"
   ]
  },
  {
   "cell_type": "markdown",
   "metadata": {},
   "source": [
    "Now for scVelo"
   ]
  },
  {
   "cell_type": "code",
   "execution_count": null,
   "metadata": {},
   "outputs": [],
   "source": [
    "data2 = scv.datasets.simulation(n_obs=n_obs,\n",
    "                               n_vars=n_vars,\n",
    "                               t_max=t_max,\n",
    "                               alpha=alpha,\n",
    "                               beta=beta,\n",
    "                               gamma=gamma,\n",
    "                               noise_level=noise_level,\n",
    "                               random_seed=seed)\n",
    "S = data2.layers['spliced']\n",
    "U = data2.layers['unspliced']\n",
    "S_lam = math.e**(math.log(max_thre)*S/np.max(S)) - 1\n",
    "U_lam = math.e**(math.log(max_thre)*U/np.max(U)) - 1\n",
    "\n",
    "np.random.seed(929)\n",
    "S_poi = np.random.poisson(lam=[s for s in S_lam])\n",
    "U_poi = np.random.poisson(lam=[u for u in U_lam])\n",
    "data2.layers['spliced'] = S_poi.copy()\n",
    "data2.layers['unspliced'] = U_poi.copy()\n",
    "data2.X = S_poi.copy() # need to make sure X is the same as spliced matrix"
   ]
  },
  {
   "cell_type": "code",
   "execution_count": null,
   "metadata": {},
   "outputs": [],
   "source": [
    "data2.X[0:10,0:10]"
   ]
  },
  {
   "cell_type": "code",
   "execution_count": null,
   "metadata": {},
   "outputs": [],
   "source": [
    "# List of quantiles you want to find\n",
    "quantiles = [0,0.1,0.2,0.3,0.4,0.5,0.6,0.7,0.8,0.9,1]\n",
    "\n",
    "# Find the quantiles of the flattened array\n",
    "quantile_results = np.quantile(data2.X, quantiles)\n",
    "\n",
    "print(f\"The quantiles {quantiles} of the matrix are: {quantile_results}\")"
   ]
  },
  {
   "cell_type": "code",
   "execution_count": null,
   "metadata": {},
   "outputs": [],
   "source": [
    "# https://github.com/theislab/scvelo/issues/1212\n",
    "\n",
    "scv.pp.log1p(data2)\n",
    "sc.pp.pca(data2)\n",
    "sc.pp.neighbors(data2, n_pcs=30, n_neighbors=30)\n",
    "scv.pp.moments(data2, n_pcs=None, n_neighbors=None)"
   ]
  },
  {
   "cell_type": "code",
   "execution_count": null,
   "metadata": {},
   "outputs": [],
   "source": [
    "scv.tl.recover_dynamics(data2)"
   ]
  },
  {
   "cell_type": "code",
   "execution_count": null,
   "metadata": {},
   "outputs": [],
   "source": [
    "scv.tl.velocity(data2, mode='dynamical')"
   ]
  },
  {
   "cell_type": "code",
   "execution_count": null,
   "metadata": {},
   "outputs": [],
   "source": [
    "scv.tl.velocity_graph(data2)"
   ]
  },
  {
   "cell_type": "code",
   "execution_count": null,
   "metadata": {},
   "outputs": [],
   "source": [
    "scv.pl.velocity_embedding_grid(data2,\n",
    "                               basis='pca',\n",
    "                               color=\"true_t\",\n",
    "                               arrow_length=2,\n",
    "                               arrow_size=2,\n",
    "                               min_mass=10)"
   ]
  },
  {
   "cell_type": "code",
   "execution_count": null,
   "metadata": {},
   "outputs": [],
   "source": [
    "scv.pl.velocity_embedding_stream(data2,\n",
    "                               basis='pca',\n",
    "                               color=\"true_t\")"
   ]
  },
  {
   "cell_type": "code",
   "execution_count": null,
   "metadata": {},
   "outputs": [],
   "source": [
    "scv.tl.velocity_confidence(data2)\n",
    "keys = 'velocity_confidence'\n",
    "scv.pl.scatter(data2, c=keys, cmap='coolwarm', perc=[5, 95])"
   ]
  }
 ],
 "metadata": {
  "kernelspec": {
   "display_name": "scvelo",
   "language": "python",
   "name": "python3"
  },
  "language_info": {
   "codemirror_mode": {
    "name": "ipython",
    "version": 3
   },
   "file_extension": ".py",
   "mimetype": "text/x-python",
   "name": "python",
   "nbconvert_exporter": "python",
   "pygments_lexer": "ipython3",
   "version": "3.9.19"
  }
 },
 "nbformat": 4,
 "nbformat_minor": 2
}
