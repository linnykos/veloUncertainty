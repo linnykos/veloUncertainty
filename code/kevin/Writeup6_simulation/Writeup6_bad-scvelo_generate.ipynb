{
 "cells": [
  {
   "cell_type": "code",
   "execution_count": 1,
   "metadata": {},
   "outputs": [],
   "source": [
    "# scvelo virtual environment\n",
    "\n",
    "import scvelo as scv\n",
    "import numpy as np\n",
    "import scanpy as sc\n",
    "import math"
   ]
  },
  {
   "cell_type": "code",
   "execution_count": 2,
   "metadata": {},
   "outputs": [
    {
     "name": "stdout",
     "output_type": "stream",
     "text": [
      "Package             Version\n",
      "------------------- -------\n",
      "anndata             0.10.7\n",
      "appnope             0.1.4\n",
      "array_api_compat    1.7.1\n",
      "asttokens           2.4.1\n",
      "click               8.1.7\n",
      "comm                0.2.2\n",
      "contourpy           1.2.1\n",
      "cycler              0.12.1\n",
      "debugpy             1.6.7\n",
      "decorator           5.1.1\n",
      "exceptiongroup      1.2.0\n",
      "executing           2.0.1\n",
      "fonttools           4.53.0\n",
      "get-annotations     0.1.2\n",
      "h5py                3.11.0\n",
      "importlib_metadata  7.1.0\n",
      "importlib_resources 6.4.0\n",
      "ipykernel           6.29.3\n",
      "ipython             8.18.1\n",
      "jedi                0.19.1\n",
      "joblib              1.4.2\n",
      "jupyter_client      8.6.2\n",
      "jupyter_core        5.7.2\n",
      "kiwisolver          1.4.5\n",
      "legacy-api-wrap     1.4\n",
      "llvmlite            0.42.0\n",
      "loompy              3.0.7\n",
      "matplotlib          3.9.0\n",
      "matplotlib-inline   0.1.7\n",
      "natsort             8.4.0\n",
      "nest_asyncio        1.6.0\n",
      "networkx            3.2.1\n",
      "numba               0.59.1\n",
      "numpy               1.26.4\n",
      "numpy-groupies      0.11.1\n",
      "packaging           24.0\n",
      "pandas              2.2.2\n",
      "parso               0.8.4\n",
      "patsy               0.5.6\n",
      "pexpect             4.9.0\n",
      "pickleshare         0.7.5\n",
      "pillow              10.3.0\n",
      "pip                 24.0\n",
      "platformdirs        4.2.2\n",
      "prompt-toolkit      3.0.42\n",
      "psutil              5.9.8\n",
      "ptyprocess          0.7.0\n",
      "pure-eval           0.2.2\n",
      "Pygments            2.18.0\n",
      "pynndescent         0.5.12\n",
      "pyparsing           3.1.2\n",
      "python-dateutil     2.9.0\n",
      "pytz                2024.1\n",
      "pyzmq               25.1.1\n",
      "scanpy              1.10.1\n",
      "scikit-learn        1.5.0\n",
      "scipy               1.13.1\n",
      "scvelo              0.3.2\n",
      "seaborn             0.13.2\n",
      "session-info        1.0.0\n",
      "setuptools          69.5.1\n",
      "six                 1.16.0\n",
      "stack-data          0.6.2\n",
      "statsmodels         0.14.2\n",
      "stdlib-list         0.10.0\n",
      "threadpoolctl       3.5.0\n",
      "tornado             6.4\n",
      "tqdm                4.66.4\n",
      "traitlets           5.14.3\n",
      "typing_extensions   4.11.0\n",
      "tzdata              2024.1\n",
      "umap-learn          0.5.6\n",
      "wcwidth             0.2.13\n",
      "wheel               0.43.0\n",
      "zipp                3.17.0\n",
      "\n",
      "anndata==0.10.7\n",
      "appnope @ file:///home/conda/feedstock_root/build_artifacts/appnope_1707233003401/work\n",
      "array_api_compat==1.7.1\n",
      "asttokens @ file:///home/conda/feedstock_root/build_artifacts/asttokens_1698341106958/work\n",
      "click==8.1.7\n",
      "comm @ file:///home/conda/feedstock_root/build_artifacts/comm_1710320294760/work\n",
      "contourpy==1.2.1\n",
      "cycler==0.12.1\n",
      "debugpy @ file:///Users/runner/miniforge3/conda-bld/debugpy_1680755636886/work\n",
      "decorator @ file:///home/conda/feedstock_root/build_artifacts/decorator_1641555617451/work\n",
      "exceptiongroup @ file:///home/conda/feedstock_root/build_artifacts/exceptiongroup_1704921103267/work\n",
      "executing @ file:///home/conda/feedstock_root/build_artifacts/executing_1698579936712/work\n",
      "fonttools==4.53.0\n",
      "get-annotations==0.1.2\n",
      "h5py==3.11.0\n",
      "importlib_metadata @ file:///home/conda/feedstock_root/build_artifacts/importlib-metadata_1710971335535/work\n",
      "importlib_resources==6.4.0\n",
      "ipykernel @ file:///Users/runner/miniforge3/conda-bld/ipykernel_1708996616394/work\n",
      "ipython @ file:///home/conda/feedstock_root/build_artifacts/ipython_1701831663892/work\n",
      "jedi @ file:///home/conda/feedstock_root/build_artifacts/jedi_1696326070614/work\n",
      "joblib==1.4.2\n",
      "jupyter_client @ file:///home/conda/feedstock_root/build_artifacts/jupyter_client_1716472197302/work\n",
      "jupyter_core @ file:///Users/runner/miniforge3/conda-bld/jupyter_core_1710257546419/work\n",
      "kiwisolver==1.4.5\n",
      "legacy-api-wrap==1.4\n",
      "llvmlite==0.42.0\n",
      "loompy==3.0.7\n",
      "matplotlib==3.9.0\n",
      "matplotlib-inline @ file:///home/conda/feedstock_root/build_artifacts/matplotlib-inline_1713250518406/work\n",
      "natsort==8.4.0\n",
      "nest_asyncio @ file:///home/conda/feedstock_root/build_artifacts/nest-asyncio_1705850609492/work\n",
      "networkx==3.2.1\n",
      "numba==0.59.1\n",
      "numpy==1.26.4\n",
      "numpy-groupies==0.11.1\n",
      "packaging @ file:///home/conda/feedstock_root/build_artifacts/packaging_1710075952259/work\n",
      "pandas==2.2.2\n",
      "parso @ file:///home/conda/feedstock_root/build_artifacts/parso_1712320355065/work\n",
      "patsy==0.5.6\n",
      "pexpect @ file:///home/conda/feedstock_root/build_artifacts/pexpect_1706113125309/work\n",
      "pickleshare @ file:///home/conda/feedstock_root/build_artifacts/pickleshare_1602536217715/work\n",
      "pillow==10.3.0\n",
      "platformdirs @ file:///home/conda/feedstock_root/build_artifacts/platformdirs_1715777629804/work\n",
      "prompt-toolkit @ file:///home/conda/feedstock_root/build_artifacts/prompt-toolkit_1702399386289/work\n",
      "psutil @ file:///Users/runner/miniforge3/conda-bld/psutil_1705722505741/work\n",
      "ptyprocess @ file:///home/conda/feedstock_root/build_artifacts/ptyprocess_1609419310487/work/dist/ptyprocess-0.7.0-py2.py3-none-any.whl\n",
      "pure-eval @ file:///home/conda/feedstock_root/build_artifacts/pure_eval_1642875951954/work\n",
      "Pygments @ file:///home/conda/feedstock_root/build_artifacts/pygments_1714846767233/work\n",
      "pynndescent==0.5.12\n",
      "pyparsing==3.1.2\n",
      "python-dateutil @ file:///home/conda/feedstock_root/build_artifacts/python-dateutil_1709299778482/work\n",
      "pytz==2024.1\n",
      "pyzmq @ file:///Users/runner/miniforge3/conda-bld/pyzmq_1698062467802/work\n",
      "scanpy==1.10.1\n",
      "scikit-learn==1.5.0\n",
      "scipy==1.13.1\n",
      "scvelo==0.3.2\n",
      "seaborn==0.13.2\n",
      "session-info==1.0.0\n",
      "six @ file:///home/conda/feedstock_root/build_artifacts/six_1620240208055/work\n",
      "stack-data @ file:///home/conda/feedstock_root/build_artifacts/stack_data_1669632077133/work\n",
      "statsmodels==0.14.2\n",
      "stdlib-list==0.10.0\n",
      "threadpoolctl==3.5.0\n",
      "tornado @ file:///Users/runner/miniforge3/conda-bld/tornado_1708363391503/work\n",
      "tqdm==4.66.4\n",
      "traitlets @ file:///home/conda/feedstock_root/build_artifacts/traitlets_1713535121073/work\n",
      "typing_extensions @ file:///home/conda/feedstock_root/build_artifacts/typing_extensions_1712329955671/work\n",
      "tzdata==2024.1\n",
      "umap-learn==0.5.6\n",
      "wcwidth @ file:///home/conda/feedstock_root/build_artifacts/wcwidth_1704731205417/work\n",
      "zipp @ file:///home/conda/feedstock_root/build_artifacts/zipp_1695255097490/work\n",
      "\n"
     ]
    }
   ],
   "source": [
    "import subprocess\n",
    "\n",
    "# List all installed packages with their versions\n",
    "def list_installed_packages():\n",
    "    result = subprocess.run(['pip', 'list'], stdout=subprocess.PIPE)\n",
    "    print(result.stdout.decode('utf-8'))\n",
    "\n",
    "# List all installed packages with their versions in requirements format\n",
    "def freeze_installed_packages():\n",
    "    result = subprocess.run(['pip', 'freeze'], stdout=subprocess.PIPE)\n",
    "    print(result.stdout.decode('utf-8'))\n",
    "\n",
    "# Execute the functions\n",
    "list_installed_packages()\n",
    "freeze_installed_packages()\n"
   ]
  },
  {
   "cell_type": "code",
   "execution_count": 3,
   "metadata": {},
   "outputs": [],
   "source": [
    "def generate_negative_binomial_matrix(mean_matrix, overdispersion):\n",
    "    # Ensure overdispersion is positive\n",
    "    if overdispersion <= 0:\n",
    "        raise ValueError(\"Overdispersion parameter must be positive.\")\n",
    "    \n",
    "    # Calculate the parameters r and p for each element in the matrix\n",
    "    r_matrix = np.full(mean_matrix.shape, overdispersion)\n",
    "    p_matrix = r_matrix / (r_matrix + mean_matrix)\n",
    "    \n",
    "    # Generate the negative binomial random variables for each element in the matrix\n",
    "    negative_binomial_matrix = np.random.negative_binomial(r_matrix, p_matrix)\n",
    "    \n",
    "    return negative_binomial_matrix"
   ]
  },
  {
   "cell_type": "code",
   "execution_count": 4,
   "metadata": {},
   "outputs": [
    {
     "ename": "ZeroDivisionError",
     "evalue": "float division by zero",
     "output_type": "error",
     "traceback": [
      "\u001b[0;31m---------------------------------------------------------------------------\u001b[0m",
      "\u001b[0;31mZeroDivisionError\u001b[0m                         Traceback (most recent call last)",
      "Cell \u001b[0;32mIn[4], line 13\u001b[0m\n\u001b[1;32m     10\u001b[0m overdispersion \u001b[38;5;241m=\u001b[39m \u001b[38;5;241m1\u001b[39m \u001b[38;5;66;03m# the larger means the more like a Poisson\u001b[39;00m\n\u001b[1;32m     12\u001b[0m \u001b[38;5;66;03m# generate S with Gaussian noise\u001b[39;00m\n\u001b[0;32m---> 13\u001b[0m data \u001b[38;5;241m=\u001b[39m \u001b[43mscv\u001b[49m\u001b[38;5;241;43m.\u001b[39;49m\u001b[43mdatasets\u001b[49m\u001b[38;5;241;43m.\u001b[39;49m\u001b[43msimulation\u001b[49m\u001b[43m(\u001b[49m\u001b[43mn_obs\u001b[49m\u001b[38;5;241;43m=\u001b[39;49m\u001b[43mn_obs\u001b[49m\u001b[43m,\u001b[49m\n\u001b[1;32m     14\u001b[0m \u001b[43m                               \u001b[49m\u001b[43mn_vars\u001b[49m\u001b[38;5;241;43m=\u001b[39;49m\u001b[43mn_vars\u001b[49m\u001b[43m,\u001b[49m\n\u001b[1;32m     15\u001b[0m \u001b[43m                               \u001b[49m\u001b[43mt_max\u001b[49m\u001b[38;5;241;43m=\u001b[39;49m\u001b[43mt_max\u001b[49m\u001b[43m,\u001b[49m\n\u001b[1;32m     16\u001b[0m \u001b[43m                               \u001b[49m\u001b[43malpha\u001b[49m\u001b[38;5;241;43m=\u001b[39;49m\u001b[43malpha\u001b[49m\u001b[43m,\u001b[49m\n\u001b[1;32m     17\u001b[0m \u001b[43m                               \u001b[49m\u001b[43mbeta\u001b[49m\u001b[38;5;241;43m=\u001b[39;49m\u001b[43mbeta\u001b[49m\u001b[43m,\u001b[49m\n\u001b[1;32m     18\u001b[0m \u001b[43m                               \u001b[49m\u001b[43mgamma\u001b[49m\u001b[38;5;241;43m=\u001b[39;49m\u001b[43mgamma\u001b[49m\u001b[43m,\u001b[49m\n\u001b[1;32m     19\u001b[0m \u001b[43m                               \u001b[49m\u001b[43mnoise_level\u001b[49m\u001b[38;5;241;43m=\u001b[39;49m\u001b[43mnoise_level\u001b[49m\u001b[43m,\u001b[49m\n\u001b[1;32m     20\u001b[0m \u001b[43m                               \u001b[49m\u001b[43mrandom_seed\u001b[49m\u001b[38;5;241;43m=\u001b[39;49m\u001b[43mseed\u001b[49m\u001b[43m)\u001b[49m\n\u001b[1;32m     21\u001b[0m S \u001b[38;5;241m=\u001b[39m data\u001b[38;5;241m.\u001b[39mlayers[\u001b[38;5;124m'\u001b[39m\u001b[38;5;124mspliced\u001b[39m\u001b[38;5;124m'\u001b[39m]\n\u001b[1;32m     22\u001b[0m U \u001b[38;5;241m=\u001b[39m data\u001b[38;5;241m.\u001b[39mlayers[\u001b[38;5;124m'\u001b[39m\u001b[38;5;124munspliced\u001b[39m\u001b[38;5;124m'\u001b[39m]\n",
      "File \u001b[0;32m/opt/miniconda3/envs/scvelo/lib/python3.9/site-packages/scvelo/datasets/_simulate.py:164\u001b[0m, in \u001b[0;36msimulation\u001b[0;34m(n_obs, n_vars, alpha, beta, gamma, alpha_, t_max, noise_model, noise_level, switches, random_seed)\u001b[0m\n\u001b[1;32m    162\u001b[0m beta_i \u001b[38;5;241m=\u001b[39m beta[i] \u001b[38;5;28;01mif\u001b[39;00m is_list(beta) \u001b[38;5;129;01mand\u001b[39;00m \u001b[38;5;28mlen\u001b[39m(beta) \u001b[38;5;241m!=\u001b[39m n_obs \u001b[38;5;28;01melse\u001b[39;00m beta\n\u001b[1;32m    163\u001b[0m gamma_i \u001b[38;5;241m=\u001b[39m gamma[i] \u001b[38;5;28;01mif\u001b[39;00m is_list(gamma) \u001b[38;5;129;01mand\u001b[39;00m \u001b[38;5;28mlen\u001b[39m(gamma) \u001b[38;5;241m!=\u001b[39m n_obs \u001b[38;5;28;01melse\u001b[39;00m gamma\n\u001b[0;32m--> 164\u001b[0m tau, alpha_vec, u0_vec, s0_vec \u001b[38;5;241m=\u001b[39m \u001b[43mvectorize\u001b[49m\u001b[43m(\u001b[49m\n\u001b[1;32m    165\u001b[0m \u001b[43m    \u001b[49m\u001b[43mt\u001b[49m\u001b[43m,\u001b[49m\u001b[43m \u001b[49m\u001b[43mt_\u001b[49m\u001b[43m[\u001b[49m\u001b[43mi\u001b[49m\u001b[43m]\u001b[49m\u001b[43m,\u001b[49m\u001b[43m \u001b[49m\u001b[43malpha_i\u001b[49m\u001b[43m,\u001b[49m\u001b[43m \u001b[49m\u001b[43mbeta_i\u001b[49m\u001b[43m,\u001b[49m\u001b[43m \u001b[49m\u001b[43mgamma_i\u001b[49m\u001b[43m,\u001b[49m\u001b[43m \u001b[49m\u001b[43malpha_\u001b[49m\u001b[38;5;241;43m=\u001b[39;49m\u001b[43malpha_\u001b[49m\u001b[43m,\u001b[49m\u001b[43m \u001b[49m\u001b[43mu0\u001b[49m\u001b[38;5;241;43m=\u001b[39;49m\u001b[38;5;241;43m0\u001b[39;49m\u001b[43m,\u001b[49m\u001b[43m \u001b[49m\u001b[43ms0\u001b[49m\u001b[38;5;241;43m=\u001b[39;49m\u001b[38;5;241;43m0\u001b[39;49m\n\u001b[1;32m    166\u001b[0m \u001b[43m\u001b[49m\u001b[43m)\u001b[49m\n\u001b[1;32m    168\u001b[0m \u001b[38;5;28;01mif\u001b[39;00m noise_model \u001b[38;5;241m==\u001b[39m \u001b[38;5;124m\"\u001b[39m\u001b[38;5;124mgillespie\u001b[39m\u001b[38;5;124m\"\u001b[39m:\n\u001b[1;32m    169\u001b[0m     U[:, i], S[:, i] \u001b[38;5;241m=\u001b[39m simulate_gillespie(alpha_vec, beta, gamma)\n",
      "File \u001b[0;32m/opt/miniconda3/envs/scvelo/lib/python3.9/site-packages/scvelo/datasets/_simulate.py:35\u001b[0m, in \u001b[0;36mvectorize\u001b[0;34m(t, t_, alpha, beta, gamma, alpha_, u0, s0, sorted)\u001b[0m\n\u001b[1;32m     32\u001b[0m tau \u001b[38;5;241m=\u001b[39m t \u001b[38;5;241m*\u001b[39m o \u001b[38;5;241m+\u001b[39m (t \u001b[38;5;241m-\u001b[39m t_) \u001b[38;5;241m*\u001b[39m (\u001b[38;5;241m1\u001b[39m \u001b[38;5;241m-\u001b[39m o)\n\u001b[1;32m     34\u001b[0m u0_ \u001b[38;5;241m=\u001b[39m unspliced(t_, u0, alpha, beta)\n\u001b[0;32m---> 35\u001b[0m s0_ \u001b[38;5;241m=\u001b[39m \u001b[43mspliced\u001b[49m\u001b[43m(\u001b[49m\u001b[43mt_\u001b[49m\u001b[43m,\u001b[49m\u001b[43m \u001b[49m\u001b[43ms0\u001b[49m\u001b[43m,\u001b[49m\u001b[43m \u001b[49m\u001b[43mu0\u001b[49m\u001b[43m,\u001b[49m\u001b[43m \u001b[49m\u001b[43malpha\u001b[49m\u001b[43m,\u001b[49m\u001b[43m \u001b[49m\u001b[43mbeta\u001b[49m\u001b[43m,\u001b[49m\u001b[43m \u001b[49m\u001b[43mgamma\u001b[49m\u001b[43m \u001b[49m\u001b[38;5;28;43;01mif\u001b[39;49;00m\u001b[43m \u001b[49m\u001b[43mgamma\u001b[49m\u001b[43m \u001b[49m\u001b[38;5;129;43;01mis\u001b[39;49;00m\u001b[43m \u001b[49m\u001b[38;5;129;43;01mnot\u001b[39;49;00m\u001b[43m \u001b[49m\u001b[38;5;28;43;01mNone\u001b[39;49;00m\u001b[43m \u001b[49m\u001b[38;5;28;43;01melse\u001b[39;49;00m\u001b[43m \u001b[49m\u001b[43mbeta\u001b[49m\u001b[43m \u001b[49m\u001b[38;5;241;43m/\u001b[39;49m\u001b[43m \u001b[49m\u001b[38;5;241;43m2\u001b[39;49m\u001b[43m)\u001b[49m\n\u001b[1;32m     37\u001b[0m \u001b[38;5;66;03m# vectorize u0, s0 and alpha\u001b[39;00m\n\u001b[1;32m     38\u001b[0m u0 \u001b[38;5;241m=\u001b[39m u0 \u001b[38;5;241m*\u001b[39m o \u001b[38;5;241m+\u001b[39m u0_ \u001b[38;5;241m*\u001b[39m (\u001b[38;5;241m1\u001b[39m \u001b[38;5;241m-\u001b[39m o)\n",
      "File \u001b[0;32m/opt/miniconda3/envs/scvelo/lib/python3.9/site-packages/scvelo/datasets/_simulate.py:21\u001b[0m, in \u001b[0;36mspliced\u001b[0;34m(tau, s0, u0, alpha, beta, gamma)\u001b[0m\n\u001b[1;32m     19\u001b[0m \u001b[38;5;28;01mdef\u001b[39;00m \u001b[38;5;21mspliced\u001b[39m(tau, s0, u0, alpha, beta, gamma):\n\u001b[1;32m     20\u001b[0m \u001b[38;5;250m    \u001b[39m\u001b[38;5;124;03m\"\"\"TODO.\"\"\"\u001b[39;00m\n\u001b[0;32m---> 21\u001b[0m     c \u001b[38;5;241m=\u001b[39m (alpha \u001b[38;5;241m-\u001b[39m u0 \u001b[38;5;241m*\u001b[39m beta) \u001b[38;5;241m*\u001b[39m \u001b[43minvert\u001b[49m\u001b[43m(\u001b[49m\u001b[43mgamma\u001b[49m\u001b[43m \u001b[49m\u001b[38;5;241;43m-\u001b[39;49m\u001b[43m \u001b[49m\u001b[43mbeta\u001b[49m\u001b[43m)\u001b[49m\n\u001b[1;32m     22\u001b[0m     expu, exps \u001b[38;5;241m=\u001b[39m np\u001b[38;5;241m.\u001b[39mexp(\u001b[38;5;241m-\u001b[39mbeta \u001b[38;5;241m*\u001b[39m tau), np\u001b[38;5;241m.\u001b[39mexp(\u001b[38;5;241m-\u001b[39mgamma \u001b[38;5;241m*\u001b[39m tau)\n\u001b[1;32m     23\u001b[0m     \u001b[38;5;28;01mreturn\u001b[39;00m s0 \u001b[38;5;241m*\u001b[39m exps \u001b[38;5;241m+\u001b[39m alpha \u001b[38;5;241m/\u001b[39m gamma \u001b[38;5;241m*\u001b[39m (\u001b[38;5;241m1\u001b[39m \u001b[38;5;241m-\u001b[39m exps) \u001b[38;5;241m+\u001b[39m c \u001b[38;5;241m*\u001b[39m (exps \u001b[38;5;241m-\u001b[39m expu)\n",
      "File \u001b[0;32m/opt/miniconda3/envs/scvelo/lib/python3.9/site-packages/scvelo/core/_arithmetic.py:46\u001b[0m, in \u001b[0;36minvert\u001b[0;34m(x)\u001b[0m\n\u001b[1;32m     44\u001b[0m \u001b[38;5;28;01mwith\u001b[39;00m warnings\u001b[38;5;241m.\u001b[39mcatch_warnings():\n\u001b[1;32m     45\u001b[0m     warnings\u001b[38;5;241m.\u001b[39msimplefilter(\u001b[38;5;124m\"\u001b[39m\u001b[38;5;124mignore\u001b[39m\u001b[38;5;124m\"\u001b[39m)\n\u001b[0;32m---> 46\u001b[0m     x_inv \u001b[38;5;241m=\u001b[39m \u001b[38;5;241;43m1\u001b[39;49m\u001b[43m \u001b[49m\u001b[38;5;241;43m/\u001b[39;49m\u001b[43m \u001b[49m\u001b[43mx\u001b[49m \u001b[38;5;241m*\u001b[39m (x \u001b[38;5;241m!=\u001b[39m \u001b[38;5;241m0\u001b[39m)\n\u001b[1;32m     47\u001b[0m \u001b[38;5;28;01mreturn\u001b[39;00m x_inv\n",
      "\u001b[0;31mZeroDivisionError\u001b[0m: float division by zero"
     ]
    }
   ],
   "source": [
    "n_obs = 1000\n",
    "n_vars = 20\n",
    "t_max = 25\n",
    "alpha = 4\n",
    "beta = .2\n",
    "gamma = .1\n",
    "noise_level = 3\n",
    "seed = 520\n",
    "max_thre = 100\n",
    "overdispersion = 1 # the larger means the more like a Poisson\n",
    "\n",
    "# generate S with Gaussian noise\n",
    "data = scv.datasets.simulation(n_obs=n_obs,\n",
    "                               n_vars=n_vars,\n",
    "                               t_max=t_max,\n",
    "                               alpha=alpha,\n",
    "                               beta=beta,\n",
    "                               gamma=gamma,\n",
    "                               noise_level=noise_level,\n",
    "                               random_seed=seed)\n",
    "S = data.layers['spliced']\n",
    "U = data.layers['unspliced']\n",
    "data.layers['true_velocity'] = beta*U-gamma*S\n",
    "S_lam = math.e**(math.log(max_thre)*S/np.max(S)) - 1\n",
    "U_lam = math.e**(math.log(max_thre)*U/np.max(U)) - 1\n",
    "\n",
    "np.random.seed(929)\n",
    "S_poi = generate_negative_binomial_matrix(mean_matrix=S_lam,\n",
    "                                          overdispersion=overdispersion)\n",
    "U_poi = generate_negative_binomial_matrix(mean_matrix=U_lam,\n",
    "                                          overdispersion=overdispersion)\n",
    "data.layers['spliced'] = S_poi.copy()\n",
    "data.layers['unspliced'] = U_poi.copy()\n",
    "data.X = S_poi.copy() # need to make sure X is the same as spliced matrix"
   ]
  },
  {
   "cell_type": "code",
   "execution_count": null,
   "metadata": {},
   "outputs": [],
   "source": [
    "# https://github.com/theislab/scvelo/issues/1212\n",
    "\n",
    "scv.pp.log1p(data)\n",
    "sc.pp.pca(data)\n",
    "sc.pp.neighbors(data, n_pcs=30, n_neighbors=30)\n",
    "scv.pp.moments(data, n_pcs=None, n_neighbors=None)\n",
    "scv.tl.recover_dynamics(data,t_max=25)\n",
    "scv.tl.velocity_graph(data,vkey=\"true_velocity\")"
   ]
  },
  {
   "cell_type": "code",
   "execution_count": null,
   "metadata": {},
   "outputs": [],
   "source": [
    "scv.pl.velocity_embedding_grid(data,\n",
    "                               basis='pca',\n",
    "                               color=\"true_t\",\n",
    "                               vkey=\"true_velocity\",\n",
    "                               arrow_length=2,\n",
    "                               arrow_size=2,\n",
    "                               min_mass=10)"
   ]
  },
  {
   "cell_type": "code",
   "execution_count": null,
   "metadata": {},
   "outputs": [],
   "source": [
    "scv.pl.velocity_embedding_stream(data,\n",
    "                               basis='pca',\n",
    "                               color=\"true_t\",\n",
    "                               vkey=\"true_velocity\")"
   ]
  },
  {
   "cell_type": "markdown",
   "metadata": {},
   "source": [
    "Now for scVelo"
   ]
  },
  {
   "cell_type": "code",
   "execution_count": null,
   "metadata": {},
   "outputs": [],
   "source": [
    "data2 = scv.datasets.simulation(n_obs=n_obs,\n",
    "                               n_vars=n_vars,\n",
    "                               t_max=t_max,\n",
    "                               alpha=alpha,\n",
    "                               beta=beta,\n",
    "                               gamma=gamma,\n",
    "                               noise_level=noise_level,\n",
    "                               random_seed=seed)\n",
    "S = data2.layers['spliced']\n",
    "U = data2.layers['unspliced']\n",
    "S_lam = math.e**(math.log(max_thre)*S/np.max(S)) - 1\n",
    "U_lam = math.e**(math.log(max_thre)*U/np.max(U)) - 1\n",
    "\n",
    "np.random.seed(929)\n",
    "S_poi = generate_negative_binomial_matrix(mean_matrix=S_lam,\n",
    "                                          overdispersion=overdispersion)\n",
    "U_poi = generate_negative_binomial_matrix(mean_matrix=U_lam,\n",
    "                                          overdispersion=overdispersion)\n",
    "data2.layers['spliced'] = S_poi.copy()\n",
    "data2.layers['unspliced'] = U_poi.copy()\n",
    "data2.X = S_poi.copy() # need to make sure X is the same as spliced matrix"
   ]
  },
  {
   "cell_type": "code",
   "execution_count": null,
   "metadata": {},
   "outputs": [],
   "source": [
    "data2.X[0:10,0:10]"
   ]
  },
  {
   "cell_type": "code",
   "execution_count": null,
   "metadata": {},
   "outputs": [],
   "source": [
    "# List of quantiles you want to find\n",
    "quantiles = [0,0.1,0.2,0.3,0.4,0.5,0.6,0.7,0.8,0.9,1]\n",
    "\n",
    "# Find the quantiles of the flattened array\n",
    "quantile_results = np.quantile(data2.X, quantiles)\n",
    "\n",
    "print(f\"The quantiles {quantiles} of the matrix are: {quantile_results}\")"
   ]
  },
  {
   "cell_type": "code",
   "execution_count": null,
   "metadata": {},
   "outputs": [],
   "source": [
    "# https://github.com/theislab/scvelo/issues/1212\n",
    "\n",
    "scv.pp.log1p(data2)\n",
    "sc.pp.pca(data2)\n",
    "sc.pp.neighbors(data2, n_pcs=30, n_neighbors=30)\n",
    "scv.pp.moments(data2, n_pcs=None, n_neighbors=None)"
   ]
  },
  {
   "cell_type": "code",
   "execution_count": null,
   "metadata": {},
   "outputs": [],
   "source": [
    "scv.tl.recover_dynamics(data2)"
   ]
  },
  {
   "cell_type": "code",
   "execution_count": null,
   "metadata": {},
   "outputs": [],
   "source": [
    "scv.tl.velocity(data2, mode='dynamical')"
   ]
  },
  {
   "cell_type": "code",
   "execution_count": null,
   "metadata": {},
   "outputs": [],
   "source": [
    "scv.tl.velocity_graph(data2)"
   ]
  },
  {
   "cell_type": "code",
   "execution_count": null,
   "metadata": {},
   "outputs": [],
   "source": [
    "scv.pl.velocity_embedding_grid(data2,\n",
    "                               basis='pca',\n",
    "                               color=\"true_t\",\n",
    "                               arrow_length=2,\n",
    "                               arrow_size=2,\n",
    "                               min_mass=10)"
   ]
  },
  {
   "cell_type": "code",
   "execution_count": null,
   "metadata": {},
   "outputs": [],
   "source": [
    "scv.pl.velocity_embedding_stream(data2,\n",
    "                               basis='pca',\n",
    "                               color=\"true_t\")"
   ]
  },
  {
   "cell_type": "code",
   "execution_count": null,
   "metadata": {},
   "outputs": [],
   "source": [
    "scv.tl.velocity_confidence(data2)\n",
    "keys = 'velocity_confidence'\n",
    "scv.pl.scatter(data2, c=keys, cmap='coolwarm', perc=[5, 95])"
   ]
  }
 ],
 "metadata": {
  "kernelspec": {
   "display_name": "scvelo",
   "language": "python",
   "name": "python3"
  },
  "language_info": {
   "codemirror_mode": {
    "name": "ipython",
    "version": 3
   },
   "file_extension": ".py",
   "mimetype": "text/x-python",
   "name": "python",
   "nbconvert_exporter": "python",
   "pygments_lexer": "ipython3",
   "version": "3.9.19"
  }
 },
 "nbformat": 4,
 "nbformat_minor": 2
}
