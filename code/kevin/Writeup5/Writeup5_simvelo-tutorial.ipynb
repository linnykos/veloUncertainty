{
 "cells": [
  {
   "cell_type": "code",
   "execution_count": null,
   "metadata": {},
   "outputs": [],
   "source": [
    "# using the simvelo environment\n",
    "# (oops! The method is called \"symvelo\")\n",
    "# script from https://github.com/melobio/SymVelo/blob/main/veloae-dentategyrus.ipynb\n",
    "\n"
   ]
  }
 ],
 "metadata": {
  "language_info": {
   "name": "python"
  }
 },
 "nbformat": 4,
 "nbformat_minor": 2
}
