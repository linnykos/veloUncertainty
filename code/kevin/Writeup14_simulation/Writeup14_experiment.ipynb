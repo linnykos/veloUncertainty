{
 "cells": [
  {
   "cell_type": "code",
   "execution_count": 1,
   "metadata": {},
   "outputs": [],
   "source": [
    "# https://github.com/YosefLab/velovi_reproducibility/blob/main/notebooks/estimation_comparison/simulated.ipynb\n",
    "\n",
    "import os\n",
    "import sys\n",
    "\n",
    "import numpy as np\n",
    "import pandas as pd\n",
    "from scipy.stats import pearsonr\n",
    "from sklearn.preprocessing import MinMaxScaler\n",
    "\n",
    "import matplotlib.pyplot as plt\n",
    "import seaborn as sns\n",
    "\n",
    "import scvelo as scv"
   ]
  },
  {
   "cell_type": "code",
   "execution_count": 2,
   "metadata": {},
   "outputs": [],
   "source": [
    "sns.reset_defaults()\n",
    "sns.reset_orig()\n",
    "scv.settings.set_figure_params('scvelo', dpi_save=400, dpi=80, transparent=True, fontsize=20, color_map='viridis')"
   ]
  },
  {
   "cell_type": "code",
   "execution_count": 3,
   "metadata": {},
   "outputs": [],
   "source": [
    "def get_adata(n_obs, mu, R, C, n_vars=1000):\n",
    "    cov = C.dot(C.T) * R\n",
    "\n",
    "    alpha, beta, gamma = np.exp(np.random.multivariate_normal(mu, cov, size=n_vars).T)  # multivariate log-normal\n",
    "    beta /= 3\n",
    "    gamma /= 3\n",
    "\n",
    "    # remove outliers\n",
    "    idx = (alpha < np.percentile(alpha, 99)) & (beta < np.percentile(beta, 99)) & (gamma < np.percentile(gamma, 99))\n",
    "    alpha = alpha[idx]\n",
    "    beta = beta[idx]\n",
    "    gamma = gamma[idx]\n",
    "    n_vars = np.sum(idx)\n",
    "\n",
    "    switches = np.random.uniform(.1, .5, size=n_vars)\n",
    "\n",
    "    adata = scv.datasets.simulation(\n",
    "        n_obs=n_obs,\n",
    "        t_max=20,\n",
    "        n_vars=n_vars,\n",
    "        switches=switches,\n",
    "        alpha=alpha,\n",
    "        beta=beta,\n",
    "        gamma=gamma,\n",
    "        noise_level=.8\n",
    "    )\n",
    "\n",
    "    scv.pp.neighbors(adata)\n",
    "    scv.tl.velocity(adata, mode='steady_state', use_raw=True)\n",
    "\n",
    "    return adata"
   ]
  },
  {
   "cell_type": "code",
   "execution_count": 4,
   "metadata": {},
   "outputs": [],
   "source": [
    "correlation_df = pd.DataFrame(columns=['correlation', 'method', 'n_obs', 'run'])\n",
    "\n",
    "adatas = {}\n",
    "bdatas = {}\n",
    "\n",
    "mu = np.array([1, .2, .05])\n",
    "\n",
    "R = np.array([[1., .2, .2],\n",
    "              [.2, 1., .8],\n",
    "              [.2, .8, 1.]])\n",
    "\n",
    "C = np.array([.4, .4, .4])[:, None]\n",
    "n_obs = 5000"
   ]
  },
  {
   "cell_type": "code",
   "execution_count": 5,
   "metadata": {},
   "outputs": [
    {
     "name": "stdout",
     "output_type": "stream",
     "text": [
      "computing neighbors\n",
      "    finished (0:00:09) --> added \n",
      "    'distances' and 'connectivities', weighted adjacency matrices (adata.obsp)\n",
      "computing velocities\n",
      "    finished (0:00:00) --> added \n",
      "    'velocity', velocity vectors for each individual cell (adata.layers)\n"
     ]
    }
   ],
   "source": [
    "adata = get_adata(n_obs=n_obs, mu=mu, R=R, C=C)"
   ]
  },
  {
   "cell_type": "code",
   "execution_count": 6,
   "metadata": {},
   "outputs": [
    {
     "data": {
      "text/plain": [
       "AnnData object with n_obs × n_vars = 5000 × 975\n",
       "    obs: 'true_t'\n",
       "    var: 'true_t_', 'true_alpha', 'true_beta', 'true_gamma', 'true_scaling', 'velocity_gamma', 'velocity_qreg_ratio', 'velocity_r2', 'velocity_genes'\n",
       "    uns: 'pca', 'neighbors', 'velocity_params'\n",
       "    obsm: 'X_pca'\n",
       "    varm: 'PCs'\n",
       "    layers: 'unspliced', 'spliced', 'velocity'\n",
       "    obsp: 'distances', 'connectivities'"
      ]
     },
     "execution_count": 6,
     "metadata": {},
     "output_type": "execute_result"
    }
   ],
   "source": [
    "adata"
   ]
  },
  {
   "cell_type": "code",
   "execution_count": null,
   "metadata": {},
   "outputs": [
    {
     "name": "stdout",
     "output_type": "stream",
     "text": [
      "recovering dynamics (using 8/20 cores)\n",
      "WARNING: Unable to create progress bar. Consider installing `tqdm` as `pip install tqdm` and `ipywidgets` as `pip install ipywidgets`,\n",
      "or disable the progress bar using `show_progress_bar=False`.\n",
      "    finished (0:00:39) --> added \n",
      "    'fit_pars', fitted parameters for splicing dynamics (adata.var)\n"
     ]
    }
   ],
   "source": [
    "run_id = 1\n",
    "# Steady-state model\n",
    "adata.var['true_ratio'] = np.array(adata.var['true_gamma'] / adata.var['true_beta'])\n",
    "adata.var['steady_state_ratio'] = adata.var['velocity_gamma']\n",
    "corr = pearsonr(adata.var['true_ratio'], adata.var['steady_state_ratio'])[0]\n",
    "# Create a new DataFrame for the row you want to append\n",
    "new_row = pd.DataFrame([{'correlation': corr, 'method': 'Steady-state', 'n_obs': n_obs, 'run': run_id}])\n",
    "# Concatenate the new row to the existing DataFrame\n",
    "correlation_df = pd.concat([correlation_df, new_row], ignore_index=True)\n",
    "\n",
    "# EM model\n",
    "scv.tl.recover_dynamics(\n",
    "    adata, var_names=adata.var_names, use_raw=True, n_jobs=8\n",
    ")\n",
    "adata.var['em_ratio'] = adata.var['fit_gamma'] / adata.var['fit_beta']\n",
    "corr = pearsonr(adata.var['true_ratio'], adata.var['em_ratio'])[0]\n",
    "# Create a new DataFrame for the row you want to append\n",
    "new_row = pd.DataFrame([{'correlation': corr, 'method': 'EM', 'n_obs': n_obs, 'run': run_id}])\n",
    "# Concatenate the new row to the existing DataFrame\n",
    "correlation_df = pd.concat([correlation_df, new_row], ignore_index=True)\n"
   ]
  },
  {
   "cell_type": "code",
   "execution_count": 18,
   "metadata": {},
   "outputs": [
    {
     "data": {
      "text/html": [
       "<div>\n",
       "<style scoped>\n",
       "    .dataframe tbody tr th:only-of-type {\n",
       "        vertical-align: middle;\n",
       "    }\n",
       "\n",
       "    .dataframe tbody tr th {\n",
       "        vertical-align: top;\n",
       "    }\n",
       "\n",
       "    .dataframe thead th {\n",
       "        text-align: right;\n",
       "    }\n",
       "</style>\n",
       "<table border=\"1\" class=\"dataframe\">\n",
       "  <thead>\n",
       "    <tr style=\"text-align: right;\">\n",
       "      <th></th>\n",
       "      <th>correlation</th>\n",
       "      <th>method</th>\n",
       "      <th>n_obs</th>\n",
       "      <th>run</th>\n",
       "    </tr>\n",
       "  </thead>\n",
       "  <tbody>\n",
       "    <tr>\n",
       "      <th>0</th>\n",
       "      <td>0.771909</td>\n",
       "      <td>Steady-state</td>\n",
       "      <td>5000</td>\n",
       "      <td>1</td>\n",
       "    </tr>\n",
       "    <tr>\n",
       "      <th>1</th>\n",
       "      <td>0.952914</td>\n",
       "      <td>EM</td>\n",
       "      <td>5000</td>\n",
       "      <td>1</td>\n",
       "    </tr>\n",
       "  </tbody>\n",
       "</table>\n",
       "</div>"
      ],
      "text/plain": [
       "   correlation        method n_obs run\n",
       "0     0.771909  Steady-state  5000   1\n",
       "1     0.952914            EM  5000   1"
      ]
     },
     "execution_count": 18,
     "metadata": {},
     "output_type": "execute_result"
    }
   ],
   "source": [
    "correlation_df"
   ]
  },
  {
   "cell_type": "code",
   "execution_count": 20,
   "metadata": {},
   "outputs": [
    {
     "data": {
      "text/plain": [
       "AnnData object with n_obs × n_vars = 5000 × 975\n",
       "    obs: 'true_t'\n",
       "    var: 'true_t_', 'true_alpha', 'true_beta', 'true_gamma', 'true_scaling', 'velocity_gamma', 'velocity_qreg_ratio', 'velocity_r2', 'velocity_genes', 'true_ratio', 'steady_state_ratio', 'fit_alpha', 'fit_beta', 'fit_gamma', 'fit_t_', 'fit_scaling', 'fit_std_u', 'fit_std_s', 'fit_likelihood', 'fit_u0', 'fit_s0', 'fit_pval_steady', 'fit_steady_u', 'fit_steady_s', 'fit_variance', 'fit_alignment_scaling', 'em_ratio'\n",
       "    uns: 'pca', 'neighbors', 'velocity_params', 'recover_dynamics'\n",
       "    obsm: 'X_pca'\n",
       "    varm: 'PCs', 'loss'\n",
       "    layers: 'unspliced', 'spliced', 'velocity', 'fit_t', 'fit_tau', 'fit_tau_'\n",
       "    obsp: 'distances', 'connectivities'"
      ]
     },
     "execution_count": 20,
     "metadata": {},
     "output_type": "execute_result"
    }
   ],
   "source": [
    "adata"
   ]
  }
 ],
 "metadata": {
  "kernelspec": {
   "display_name": "scVelo_developer",
   "language": "python",
   "name": "python3"
  },
  "language_info": {
   "codemirror_mode": {
    "name": "ipython",
    "version": 3
   },
   "file_extension": ".py",
   "mimetype": "text/x-python",
   "name": "python",
   "nbconvert_exporter": "python",
   "pygments_lexer": "ipython3",
   "version": "3.9.19"
  }
 },
 "nbformat": 4,
 "nbformat_minor": 2
}
