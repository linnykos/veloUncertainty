{
 "cells": [
  {
   "cell_type": "code",
   "execution_count": 1,
   "metadata": {},
   "outputs": [],
   "source": [
    "# scvelo_developer environment\n",
    "# based on https://github.com/linnykos/veloUncertainty/blob/main/code/yuhong/pancreas/methods/velovi/v2_pan_velovi_3plots.py\n",
    "# and https://github.com/linnykos/veloUncertainty/blob/main/veloUncertainty/v2_functions_velovi.py\n",
    "import scvelo as scv\n",
    "import scanpy as sc\n",
    "import numpy as np\n",
    "import pandas as pd\n",
    "import matplotlib.pyplot as plt\n",
    "import random\n",
    "import anndata as ad"
   ]
  },
  {
   "cell_type": "code",
   "execution_count": null,
   "metadata": {},
   "outputs": [],
   "source": [
    "method = 'sct'\n",
    "dataset_long = 'pancreas'\n",
    "dataset_short = 'pan'\n",
    "\n",
    "data_folder = \"/home/users/kzlin/kzlinlab/projects/veloUncertainty/out/yuhong/data/\"\n",
    "fig_folder = \"/home/users/kzlin/kzlinlab/projects/veloUncertainty/git/veloUncertainty/fig/yuhong/v2_\"+dataset_long+\"/\"+method+\"/\"\n",
    "\n",
    "total = sc.read_h5ad(data_folder+\"v2_\"+dataset_long+\"/\"+method+\"/adata_\"+dataset_short+\"_\"+method+\"_total_v2.h5ad\")\n",
    "vae_total = VELOVI.load(data_folder+\"v2_\"+dataset_long+\"/\"+method+'/vae_pan_velovi_total_v2.pt', total)"
   ]
  }
 ],
 "metadata": {
  "kernelspec": {
   "display_name": "scVelo_developer",
   "language": "python",
   "name": "python3"
  },
  "language_info": {
   "codemirror_mode": {
    "name": "ipython",
    "version": 3
   },
   "file_extension": ".py",
   "mimetype": "text/x-python",
   "name": "python",
   "nbconvert_exporter": "python",
   "pygments_lexer": "ipython3",
   "version": "3.9.19"
  }
 },
 "nbformat": 4,
 "nbformat_minor": 2
}
