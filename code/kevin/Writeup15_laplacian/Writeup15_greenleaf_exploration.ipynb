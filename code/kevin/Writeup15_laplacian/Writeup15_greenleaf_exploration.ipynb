{
 "cells": [
  {
   "cell_type": "code",
   "execution_count": 1,
   "id": "bb9dd3c6",
   "metadata": {},
   "outputs": [],
   "source": [
    "import anndata as ad"
   ]
  },
  {
   "cell_type": "code",
   "execution_count": 2,
   "id": "bda22187",
   "metadata": {},
   "outputs": [],
   "source": [
    "adata = ad.read_h5ad(\"/home/users/kzlin/kzlinlab/projects/veloUncertainty/out/yuhong/data/v4_greenleaf/seed317/scv/adata_glf_scv_total_v4.h5ad\")"
   ]
  },
  {
   "cell_type": "code",
   "execution_count": 3,
   "id": "f92e1c41",
   "metadata": {},
   "outputs": [
    {
     "data": {
      "text/plain": [
       "AnnData object with n_obs × n_vars = 38263 × 2000\n",
       "    obs: 'Sample.ID', 'Age', 'Tissue.ID', 'Sample.Type', 'Assay', 'Batch', 'seurat_clusters', 'RNA.Counts', 'RNA.Features', 'Percent.MT', 'Percent.Ribo', 'Cell.Barcode', 'DF_pANN', 'DF_classification', 'DF_pANN_quantile', 'Spliced.Counts', 'Spliced.Features', 'Unspliced.Counts', 'Unspliced.Features', 'Ambiguous.Counts', 'Ambiguous.Features', 'cluster_name', 'initial_size_unspliced', 'initial_size_spliced', 'initial_size', 'n_counts', 'velocity_self_transition'\n",
       "    var: 'indices', 'gene_count_corr', 'means', 'dispersions', 'dispersions_norm', 'highly_variable', 'fit_r2', 'fit_alpha', 'fit_beta', 'fit_gamma', 'fit_t_', 'fit_scaling', 'fit_std_u', 'fit_std_s', 'fit_likelihood', 'fit_u0', 'fit_s0', 'fit_pval_steady', 'fit_steady_u', 'fit_steady_s', 'fit_variance', 'fit_alignment_scaling', 'velocity_genes'\n",
       "    uns: 'log1p', 'neighbors', 'pca', 'recover_dynamics', 'umap', 'velocity_graph', 'velocity_graph_neg', 'velocity_params'\n",
       "    obsm: 'X_pca', 'X_umap', 'X_umap_greenleaf'\n",
       "    varm: 'PCs', 'loss'\n",
       "    layers: 'Ms', 'Mu', 'fit_t', 'fit_tau', 'fit_tau_', 'spliced', 'spliced_original', 'unspliced', 'unspliced_original', 'velocity', 'velocity_u'\n",
       "    obsp: 'connectivities', 'distances'"
      ]
     },
     "execution_count": 3,
     "metadata": {},
     "output_type": "execute_result"
    }
   ],
   "source": [
    "adata"
   ]
  },
  {
   "cell_type": "code",
   "execution_count": 11,
   "id": "7c688426",
   "metadata": {},
   "outputs": [
    {
     "data": {
      "text/plain": [
       "0\n",
       "ENSG00000188290       26\n",
       "ENSG00000187608       27\n",
       "ENSG00000188157       29\n",
       "ENSG00000131584       46\n",
       "ENSG00000116151       91\n",
       "                   ...  \n",
       "ENSG00000160190    32511\n",
       "ENSG00000142156    32613\n",
       "ENSG00000160285    32623\n",
       "ENSG00000215424    32625\n",
       "ENSG00000160305    32632\n",
       "Name: indices, Length: 2000, dtype: int64"
      ]
     },
     "execution_count": 11,
     "metadata": {},
     "output_type": "execute_result"
    }
   ],
   "source": [
    "adata.var['indices']"
   ]
  },
  {
   "cell_type": "code",
   "execution_count": null,
   "id": "771c35f6",
   "metadata": {},
   "outputs": [
    {
     "data": {
      "text/plain": [
       "<38263x38263 sparse matrix of type '<class 'numpy.float32'>'\n",
       "\twith 7175109 stored elements in Compressed Sparse Row format>"
      ]
     },
     "execution_count": 4,
     "metadata": {},
     "output_type": "execute_result"
    }
   ],
   "source": [
    "adata.uns['velocity_graph']"
   ]
  },
  {
   "cell_type": "code",
   "execution_count": 6,
   "id": "0415b7f8",
   "metadata": {},
   "outputs": [
    {
     "data": {
      "text/plain": [
       "array([[0.        , 0.        , 0.        , 0.        , 0.        ,\n",
       "        0.        , 0.        , 0.        , 0.        , 0.        ],\n",
       "       [0.        , 0.        , 0.        , 0.        , 0.        ,\n",
       "        0.        , 0.        , 0.        , 0.        , 0.        ],\n",
       "       [0.        , 0.        , 0.        , 0.        , 0.        ,\n",
       "        0.        , 0.        , 0.        , 0.        , 0.        ],\n",
       "       [0.        , 0.        , 0.        , 0.        , 0.        ,\n",
       "        0.        , 0.        , 0.        , 0.        , 0.        ],\n",
       "       [0.        , 0.        , 0.        , 0.        , 0.        ,\n",
       "        0.        , 0.        , 0.        , 0.        , 0.        ],\n",
       "       [0.        , 0.        , 0.        , 0.        , 0.        ,\n",
       "        0.        , 0.        , 0.        , 0.        , 0.        ],\n",
       "       [0.        , 0.        , 0.        , 0.        , 0.        ,\n",
       "        0.        , 0.28727663, 0.        , 0.        , 0.        ],\n",
       "       [0.        , 0.        , 0.        , 0.        , 0.        ,\n",
       "        0.        , 0.        , 0.        , 0.        , 0.        ],\n",
       "       [0.        , 0.        , 0.        , 0.        , 0.        ,\n",
       "        0.        , 0.        , 0.        , 0.        , 0.        ],\n",
       "       [0.        , 0.        , 0.        , 0.        , 0.        ,\n",
       "        0.        , 0.        , 0.        , 0.        , 0.        ]],\n",
       "      dtype=float32)"
      ]
     },
     "execution_count": 6,
     "metadata": {},
     "output_type": "execute_result"
    }
   ],
   "source": [
    "adata.uns['velocity_graph'][10:20,0:10].toarray()"
   ]
  },
  {
   "cell_type": "code",
   "execution_count": 8,
   "id": "187857de",
   "metadata": {},
   "outputs": [
    {
     "name": "stdout",
     "output_type": "stream",
     "text": [
      "All entries non-negative? True\n"
     ]
    }
   ],
   "source": [
    "import numpy as np\n",
    "import scipy.sparse as sp\n",
    "\n",
    "# Step 1: Check all values are non-negative\n",
    "velocity_graph = adata.uns['velocity_graph']\n",
    "\n",
    "# Since it's sparse, check only the nonzero entries\n",
    "all_non_negative = (velocity_graph.data >= 0).all()\n",
    "print(f\"All entries non-negative? {all_non_negative}\")\n",
    "\n",
    "# Step 2: Normalize each row to sum to 1\n",
    "# Calculate row sums\n",
    "row_sums = np.array(velocity_graph.sum(axis=1)).flatten()\n",
    "\n",
    "# To avoid division by zero, set zeros to 1 (rows with all zeros will stay all zeros after normalization)\n",
    "row_sums_safe = np.where(row_sums == 0, 1, row_sums)\n",
    "\n",
    "# Create a diagonal matrix with 1/row_sum\n",
    "row_scaling = sp.diags(1.0 / row_sums_safe)\n",
    "\n",
    "# Multiply: (row scaling) × (original matrix)\n",
    "velocity_graph_normalized = row_scaling.dot(velocity_graph)"
   ]
  },
  {
   "cell_type": "code",
   "execution_count": 9,
   "id": "09e0abad",
   "metadata": {},
   "outputs": [
    {
     "name": "stdout",
     "output_type": "stream",
     "text": [
      "                ID\n",
      "0  ENSG00000152583\n",
      "1  ENSG00000197921\n",
      "2  ENSG00000101439\n",
      "3  ENSG00000131095\n",
      "4  ENSG00000120885\n"
     ]
    }
   ],
   "source": [
    "import pandas as pd\n",
    "\n",
    "# Load the CSV\n",
    "csv_path = \"/home/users/kzlin/kzlinlab/projects/veloUncertainty/out/yuhong/data/v4_greenleaf/glf_GPC.csv\"\n",
    "gpc_df = pd.read_csv(csv_path)\n",
    "\n",
    "# Inspect it\n",
    "print(gpc_df.head())\n"
   ]
  },
  {
   "cell_type": "code",
   "execution_count": null,
   "id": "a4d7d76c",
   "metadata": {},
   "outputs": [
    {
     "name": "stdout",
     "output_type": "stream",
     "text": [
      "Number of overlapping genes: 116\n",
      "[548, 6, 1849, 1758, 1034, 936, 1989, 1291, 1564, 1031]\n"
     ]
    }
   ],
   "source": [
    "gpc_genes = gpc_df['ID'].tolist()\n",
    "\n",
    "# Genes in your AnnData object\n",
    "adata_genes = adata.var_names.tolist()  # adata.var_names is usually the gene identifiers\n",
    "\n",
    "# Find overlap: get indices of genes in adata that are also in gpc_genes\n",
    "# Create a mapping: gene name -> index\n",
    "gene_to_idx = {gene: idx for idx, gene in enumerate(adata_genes)}\n",
    "\n",
    "# Find the indices\n",
    "overlapping_indices = [gene_to_idx[gene] for gene in gpc_genes if gene in gene_to_idx]\n",
    "\n",
    "print(f\"Number of overlapping genes: {len(overlapping_indices)}\")\n",
    "print(overlapping_indices[:10])  # Show first few indices"
   ]
  },
  {
   "cell_type": "code",
   "execution_count": 19,
   "id": "be198f60",
   "metadata": {},
   "outputs": [],
   "source": [
    "import numpy as np\n",
    "\n",
    "def directed_laplacian_score(A, x):\n",
    "    \"\"\"\n",
    "    Compute the directed Laplacian score for a given vector x and adjacency matrix A.\n",
    "    \n",
    "    Args:\n",
    "        A: scipy sparse matrix (n x n), non-negative, possibly asymmetric.\n",
    "        x: 1D numpy array (length n)\n",
    "    \n",
    "    Returns:\n",
    "        Directed Laplacian score (float)\n",
    "    \"\"\"\n",
    "    # Make sure A is in CSR format for fast row slicing\n",
    "    A = A.tocsr()\n",
    "    \n",
    "    # Precompute x_i^2 and x_j^2 terms\n",
    "    x_i_squared = A.multiply(x[:, None] ** 2).sum()\n",
    "    x_j_squared = A.multiply(x[None, :] ** 2).sum()\n",
    "    x_cross = A.multiply(np.outer(x, x)).sum()\n",
    "    \n",
    "    score = x_i_squared + x_j_squared - 2 * x_cross\n",
    "\n",
    "    # Variance of x\n",
    "    var_x = np.var(x)\n",
    "\n",
    "    # Normalize\n",
    "    if var_x == 0:\n",
    "        return np.nan  # or raise an error if you prefer\n",
    "    normalized_score = score / var_x\n",
    "\n",
    "    return normalized_score\n"
   ]
  },
  {
   "cell_type": "code",
   "execution_count": 20,
   "id": "c7e7aab4",
   "metadata": {},
   "outputs": [
    {
     "name": "stdout",
     "output_type": "stream",
     "text": [
      "58329.76985399345\n"
     ]
    }
   ],
   "source": [
    "# Suppose velocity_graph_normalized is your matrix (A)\n",
    "# and you want to compute for one gene's expression vector x\n",
    "\n",
    "# Pick one gene\n",
    "gene_idx = overlapping_indices[0]\n",
    "\n",
    "# Get the gene expression vector x (length = n_obs = 38263)\n",
    "x = adata[:, gene_idx].X\n",
    "if sp.issparse(x):\n",
    "    x = np.array(x.todense()).flatten()\n",
    "else:\n",
    "    x = np.array(x).flatten()\n",
    "\n",
    "# Compute the score\n",
    "score = directed_laplacian_score(velocity_graph_normalized, x)\n",
    "print(score)\n"
   ]
  },
  {
   "cell_type": "code",
   "execution_count": 16,
   "id": "c8ba669b",
   "metadata": {},
   "outputs": [
    {
     "name": "stdout",
     "output_type": "stream",
     "text": [
      "Percent of zeros: 98.13%\n",
      "Quantiles of nonzero entries (25%, 50%, 75%, 100%): [0.47686777 0.70754468 1.07664758 3.84556103]\n"
     ]
    }
   ],
   "source": [
    "# Calculate percent zeros\n",
    "percent_zeros = (np.sum(x == 0) / len(x)) * 100\n",
    "print(f\"Percent of zeros: {percent_zeros:.2f}%\")\n",
    "\n",
    "# Quantiles of nonzero entries\n",
    "x_nonzero = x[x != 0]\n",
    "quantiles = np.quantile(x_nonzero, [0.25, 0.5, 0.75, 1])\n",
    "\n",
    "print(f\"Quantiles of nonzero entries (25%, 50%, 75%, 100%): {quantiles}\")"
   ]
  },
  {
   "cell_type": "code",
   "execution_count": 21,
   "id": "5f767588",
   "metadata": {},
   "outputs": [
    {
     "name": "stdout",
     "output_type": "stream",
     "text": [
      "Working on gene 1 out of 116\n",
      "Working on gene 2 out of 116\n",
      "Working on gene 3 out of 116\n",
      "Working on gene 4 out of 116\n",
      "Working on gene 5 out of 116\n",
      "Working on gene 6 out of 116\n",
      "Working on gene 7 out of 116\n",
      "Working on gene 8 out of 116\n",
      "Working on gene 9 out of 116\n",
      "Working on gene 10 out of 116\n",
      "Working on gene 11 out of 116\n",
      "Working on gene 12 out of 116\n",
      "Working on gene 13 out of 116\n",
      "Working on gene 14 out of 116\n",
      "Working on gene 15 out of 116\n",
      "Working on gene 16 out of 116\n",
      "Working on gene 17 out of 116\n",
      "Working on gene 18 out of 116\n",
      "Working on gene 19 out of 116\n",
      "Working on gene 20 out of 116\n",
      "Working on gene 21 out of 116\n",
      "Working on gene 22 out of 116\n",
      "Working on gene 23 out of 116\n",
      "Working on gene 24 out of 116\n",
      "Working on gene 25 out of 116\n",
      "Working on gene 26 out of 116\n",
      "Working on gene 27 out of 116\n",
      "Working on gene 28 out of 116\n",
      "Working on gene 29 out of 116\n",
      "Working on gene 30 out of 116\n",
      "Working on gene 31 out of 116\n",
      "Working on gene 32 out of 116\n",
      "Working on gene 33 out of 116\n",
      "Working on gene 34 out of 116\n",
      "Working on gene 35 out of 116\n",
      "Working on gene 36 out of 116\n",
      "Working on gene 37 out of 116\n",
      "Working on gene 38 out of 116\n",
      "Working on gene 39 out of 116\n",
      "Working on gene 40 out of 116\n",
      "Working on gene 41 out of 116\n",
      "Working on gene 42 out of 116\n",
      "Working on gene 43 out of 116\n",
      "Working on gene 44 out of 116\n",
      "Working on gene 45 out of 116\n",
      "Working on gene 46 out of 116\n",
      "Working on gene 47 out of 116\n",
      "Working on gene 48 out of 116\n",
      "Working on gene 49 out of 116\n",
      "Working on gene 50 out of 116\n",
      "Working on gene 51 out of 116\n",
      "Working on gene 52 out of 116\n",
      "Working on gene 53 out of 116\n",
      "Working on gene 54 out of 116\n",
      "Working on gene 55 out of 116\n",
      "Working on gene 56 out of 116\n",
      "Working on gene 57 out of 116\n",
      "Working on gene 58 out of 116\n",
      "Working on gene 59 out of 116\n",
      "Working on gene 60 out of 116\n",
      "Working on gene 61 out of 116\n",
      "Working on gene 62 out of 116\n",
      "Working on gene 63 out of 116\n",
      "Working on gene 64 out of 116\n",
      "Working on gene 65 out of 116\n",
      "Working on gene 66 out of 116\n",
      "Working on gene 67 out of 116\n",
      "Working on gene 68 out of 116\n",
      "Working on gene 69 out of 116\n",
      "Working on gene 70 out of 116\n",
      "Working on gene 71 out of 116\n",
      "Working on gene 72 out of 116\n",
      "Working on gene 73 out of 116\n",
      "Working on gene 74 out of 116\n",
      "Working on gene 75 out of 116\n",
      "Working on gene 76 out of 116\n",
      "Working on gene 77 out of 116\n",
      "Working on gene 78 out of 116\n",
      "Working on gene 79 out of 116\n",
      "Working on gene 80 out of 116\n",
      "Working on gene 81 out of 116\n",
      "Working on gene 82 out of 116\n",
      "Working on gene 83 out of 116\n",
      "Working on gene 84 out of 116\n",
      "Working on gene 85 out of 116\n",
      "Working on gene 86 out of 116\n",
      "Working on gene 87 out of 116\n",
      "Working on gene 88 out of 116\n",
      "Working on gene 89 out of 116\n",
      "Working on gene 90 out of 116\n",
      "Working on gene 91 out of 116\n",
      "Working on gene 92 out of 116\n",
      "Working on gene 93 out of 116\n",
      "Working on gene 94 out of 116\n",
      "Working on gene 95 out of 116\n",
      "Working on gene 96 out of 116\n",
      "Working on gene 97 out of 116\n",
      "Working on gene 98 out of 116\n",
      "Working on gene 99 out of 116\n",
      "Working on gene 100 out of 116\n",
      "Working on gene 101 out of 116\n",
      "Working on gene 102 out of 116\n",
      "Working on gene 103 out of 116\n",
      "Working on gene 104 out of 116\n",
      "Working on gene 105 out of 116\n",
      "Working on gene 106 out of 116\n",
      "Working on gene 107 out of 116\n",
      "Working on gene 108 out of 116\n",
      "Working on gene 109 out of 116\n",
      "Working on gene 110 out of 116\n",
      "Working on gene 111 out of 116\n",
      "Working on gene 112 out of 116\n",
      "Working on gene 113 out of 116\n",
      "Working on gene 114 out of 116\n",
      "Working on gene 115 out of 116\n",
      "Working on gene 116 out of 116\n",
      "Finished computing all scores!\n"
     ]
    }
   ],
   "source": [
    "# Preallocate list to store results\n",
    "scores = []\n",
    "\n",
    "n_genes = len(overlapping_indices)\n",
    "\n",
    "for idx, gene_idx in enumerate(overlapping_indices):\n",
    "    print(f\"Working on gene {idx + 1} out of {n_genes}\")\n",
    "\n",
    "    # Get the gene expression vector x\n",
    "    x = adata[:, gene_idx].X\n",
    "    if sp.issparse(x):\n",
    "        x = np.array(x.todense()).flatten()\n",
    "    else:\n",
    "        x = np.array(x).flatten()\n",
    "\n",
    "    # Compute the normalized directed Laplacian score\n",
    "    score = directed_laplacian_score(velocity_graph_normalized, x)\n",
    "    scores.append(score)\n",
    "\n",
    "# Convert to numpy array if you prefer\n",
    "scores = np.array(scores)\n",
    "\n",
    "print(\"Finished computing all scores!\")\n"
   ]
  },
  {
   "cell_type": "code",
   "execution_count": 22,
   "id": "40ef8958",
   "metadata": {},
   "outputs": [
    {
     "data": {
      "text/plain": [
       "array([58329.76985399, 43731.30129937, 46339.1028562 , 48038.70647451,\n",
       "       36227.64179805, 23236.65639653, 44170.11031975, 14308.32732979,\n",
       "       24993.01293226, 47982.1211546 , 22656.48096692, 46544.91271256,\n",
       "       60905.15823972, 64596.12147699, 21527.71256854, 30366.54149137,\n",
       "       41421.45032521, 23109.28285906, 29312.63468751, 47511.76831923,\n",
       "       58617.34978702, 37897.1981653 , 62717.89878009, 25522.65489921,\n",
       "       32979.23339367, 31690.80429749, 27412.32817843, 51597.36562652,\n",
       "       42342.46585952, 40282.87423835, 23659.55331123, 36751.15758815,\n",
       "       15882.46417299, 27685.27418856, 31669.60931591, 40988.34851648,\n",
       "       42132.68192101, 42920.63399376, 54430.82896482, 43090.17042194,\n",
       "       55247.62248478, 50730.19600186, 62565.44070229, 41332.89971976,\n",
       "       42002.75354847, 29395.93174697, 47023.53115198, 40202.57185947,\n",
       "       46832.36534405, 60420.60491748, 44563.5878171 , 45992.91121513,\n",
       "       53478.8742672 , 37778.19768272, 46122.42461772, 54230.04251269,\n",
       "       50248.72973407, 50247.7617731 , 51589.45861614, 61033.34582003,\n",
       "       30734.75686203, 46918.7571697 , 37593.99607438, 42963.15736026,\n",
       "       45760.85986744, 35165.10566082, 49944.94111779, 41364.26086939,\n",
       "       56482.0106012 , 50701.94831872, 56993.84753623, 58024.63267864,\n",
       "       36771.7656749 , 29829.34697068, 32500.48719066, 65110.05759003,\n",
       "       59738.71948842, 42911.64867515, 62694.71916534, 61795.81840762,\n",
       "       48734.88113781, 60508.6411722 , 44189.61973387, 47637.95221977,\n",
       "       51702.18390133, 57717.87815231, 56657.60329124, 61516.85926583,\n",
       "       40621.2517775 , 52909.93614942, 60850.53196314, 51950.83781301,\n",
       "       55804.41764796, 57892.25895886, 47269.34793395, 62506.54334768,\n",
       "       70166.16477327, 65305.30328959, 47248.77575142, 50777.19952191,\n",
       "       57746.91161305, 51534.56610152, 48826.6412796 , 52236.83036434,\n",
       "       42915.29743446, 52706.1594877 , 53676.0864925 , 51269.29278788,\n",
       "       55448.46731682, 41112.52320052, 36769.58595651, 65623.25020126,\n",
       "       67424.20483602, 69063.18692766, 34660.93949802, 60182.63958463])"
      ]
     },
     "execution_count": 22,
     "metadata": {},
     "output_type": "execute_result"
    }
   ],
   "source": [
    "scores"
   ]
  },
  {
   "cell_type": "code",
   "execution_count": 23,
   "id": "a22a020d",
   "metadata": {},
   "outputs": [
    {
     "name": "stdout",
     "output_type": "stream",
     "text": [
      "Quantiles of nonzero entries (0%, 25%, 50%, 75%, 100%): [14308.32732979 39626.22843593 47259.06184269 55973.81588627\n",
      " 70166.16477327]\n"
     ]
    }
   ],
   "source": [
    "quantiles = np.quantile(scores, [0, 0.25, 0.5, 0.75, 1])\n",
    "\n",
    "print(f\"Quantiles of nonzero entries (0%, 25%, 50%, 75%, 100%): {quantiles}\")"
   ]
  },
  {
   "cell_type": "code",
   "execution_count": null,
   "id": "4e4c3838",
   "metadata": {},
   "outputs": [
    {
     "name": "stdout",
     "output_type": "stream",
     "text": [
      "   Unnamed: 0         genes227         genes230         genes233  \\\n",
      "0           0  ENSG00000102181  ENSG00000132874  ENSG00000186166   \n",
      "1           1  ENSG00000106392  ENSG00000182963  ENSG00000136731   \n",
      "2           2  ENSG00000235381  ENSG00000211896  ENSG00000237614   \n",
      "3           3  ENSG00000154079  ENSG00000106819  ENSG00000226542   \n",
      "4           4  ENSG00000277448  ENSG00000259734  ENSG00000005007   \n",
      "\n",
      "          genes236         genes239  \n",
      "0  ENSG00000116793  ENSG00000258017  \n",
      "1  ENSG00000282917  ENSG00000246308  \n",
      "2  ENSG00000183624  ENSG00000254102  \n",
      "3  ENSG00000228379  ENSG00000122862  \n",
      "4  ENSG00000233695  ENSG00000268797  \n"
     ]
    }
   ],
   "source": [
    "# Load the CSV\n",
    "csv_path_2 = \"/home/users/kzlin/kzlinlab/projects/veloUncertainty/out/yuhong/data/v4_greenleaf/glf_nGPCblk_genes_ctrl.csv\"\n",
    "nongpc_df = pd.read_csv(csv_path_2)\n",
    "\n",
    "# Inspect it\n",
    "print(nongpc_df.head())\n",
    "print(nongpc_df.shape)\n"
   ]
  },
  {
   "cell_type": "code",
   "execution_count": 27,
   "id": "3222d936",
   "metadata": {},
   "outputs": [
    {
     "name": "stdout",
     "output_type": "stream",
     "text": [
      "Number of overlapping genes (genes227): 82\n",
      "[1498, 610, 883, 1384, 1947, 1540, 526, 1800, 271, 1687]\n"
     ]
    }
   ],
   "source": [
    "# Extract genes from the 'genes227' column\n",
    "nongpc_genes = nongpc_df['genes227'].tolist()\n",
    "\n",
    "# Genes in your AnnData object\n",
    "adata_genes = adata.var_names.tolist()\n",
    "\n",
    "# Create a mapping: gene name -> index\n",
    "gene_to_idx = {gene: idx for idx, gene in enumerate(adata_genes)}\n",
    "\n",
    "# Find overlapping indices\n",
    "overlapping_indices_nongpc = [gene_to_idx[gene] for gene in nongpc_genes if gene in gene_to_idx]\n",
    "\n",
    "print(f\"Number of overlapping genes (genes227): {len(overlapping_indices_nongpc)}\")\n",
    "print(overlapping_indices_nongpc[:10])  # Show first few indices"
   ]
  },
  {
   "cell_type": "code",
   "execution_count": 29,
   "id": "ca19a6a7",
   "metadata": {},
   "outputs": [
    {
     "name": "stdout",
     "output_type": "stream",
     "text": [
      "Working on gene 1 out of 82\n",
      "Working on gene 2 out of 82\n",
      "Working on gene 3 out of 82\n",
      "Working on gene 4 out of 82\n",
      "Working on gene 5 out of 82\n",
      "Working on gene 6 out of 82\n",
      "Working on gene 7 out of 82\n",
      "Working on gene 8 out of 82\n",
      "Working on gene 9 out of 82\n",
      "Working on gene 10 out of 82\n",
      "Working on gene 11 out of 82\n",
      "Working on gene 12 out of 82\n",
      "Working on gene 13 out of 82\n",
      "Working on gene 14 out of 82\n",
      "Working on gene 15 out of 82\n",
      "Working on gene 16 out of 82\n",
      "Working on gene 17 out of 82\n",
      "Working on gene 18 out of 82\n",
      "Working on gene 19 out of 82\n",
      "Working on gene 20 out of 82\n",
      "Working on gene 21 out of 82\n",
      "Working on gene 22 out of 82\n",
      "Working on gene 23 out of 82\n",
      "Working on gene 24 out of 82\n",
      "Working on gene 25 out of 82\n",
      "Working on gene 26 out of 82\n",
      "Working on gene 27 out of 82\n",
      "Working on gene 28 out of 82\n",
      "Working on gene 29 out of 82\n",
      "Working on gene 30 out of 82\n",
      "Working on gene 31 out of 82\n",
      "Working on gene 32 out of 82\n",
      "Working on gene 33 out of 82\n",
      "Working on gene 34 out of 82\n",
      "Working on gene 35 out of 82\n",
      "Working on gene 36 out of 82\n",
      "Working on gene 37 out of 82\n",
      "Working on gene 38 out of 82\n",
      "Working on gene 39 out of 82\n",
      "Working on gene 40 out of 82\n",
      "Working on gene 41 out of 82\n",
      "Working on gene 42 out of 82\n",
      "Working on gene 43 out of 82\n",
      "Working on gene 44 out of 82\n",
      "Working on gene 45 out of 82\n",
      "Working on gene 46 out of 82\n",
      "Working on gene 47 out of 82\n",
      "Working on gene 48 out of 82\n",
      "Working on gene 49 out of 82\n",
      "Working on gene 50 out of 82\n",
      "Working on gene 51 out of 82\n",
      "Working on gene 52 out of 82\n",
      "Working on gene 53 out of 82\n",
      "Working on gene 54 out of 82\n",
      "Working on gene 55 out of 82\n",
      "Working on gene 56 out of 82\n",
      "Working on gene 57 out of 82\n",
      "Working on gene 58 out of 82\n",
      "Working on gene 59 out of 82\n",
      "Working on gene 60 out of 82\n",
      "Working on gene 61 out of 82\n",
      "Working on gene 62 out of 82\n",
      "Working on gene 63 out of 82\n",
      "Working on gene 64 out of 82\n",
      "Working on gene 65 out of 82\n",
      "Working on gene 66 out of 82\n",
      "Working on gene 67 out of 82\n",
      "Working on gene 68 out of 82\n",
      "Working on gene 69 out of 82\n",
      "Working on gene 70 out of 82\n",
      "Working on gene 71 out of 82\n",
      "Working on gene 72 out of 82\n",
      "Working on gene 73 out of 82\n",
      "Working on gene 74 out of 82\n",
      "Working on gene 75 out of 82\n",
      "Working on gene 76 out of 82\n",
      "Working on gene 77 out of 82\n",
      "Working on gene 78 out of 82\n",
      "Working on gene 79 out of 82\n",
      "Working on gene 80 out of 82\n",
      "Working on gene 81 out of 82\n",
      "Working on gene 82 out of 82\n",
      "Finished computing all scores!\n"
     ]
    }
   ],
   "source": [
    "# Preallocate list to store results\n",
    "nongpc_scores = []\n",
    "\n",
    "n_genes = len(overlapping_indices_nongpc)\n",
    "\n",
    "for idx, gene_idx in enumerate(overlapping_indices_nongpc):\n",
    "    print(f\"Working on gene {idx + 1} out of {n_genes}\")\n",
    "\n",
    "    # Get the gene expression vector x\n",
    "    x = adata[:, gene_idx].X\n",
    "    if sp.issparse(x):\n",
    "        x = np.array(x.todense()).flatten()\n",
    "    else:\n",
    "        x = np.array(x).flatten()\n",
    "\n",
    "    # Compute the normalized directed Laplacian score\n",
    "    score = directed_laplacian_score(velocity_graph_normalized, x)\n",
    "    nongpc_scores.append(score)\n",
    "\n",
    "# Convert to numpy array if you prefer\n",
    "nongpc_scores = np.array(nongpc_scores)\n",
    "\n",
    "print(\"Finished computing all scores!\")\n"
   ]
  },
  {
   "cell_type": "code",
   "execution_count": 30,
   "id": "2554c828",
   "metadata": {},
   "outputs": [
    {
     "name": "stdout",
     "output_type": "stream",
     "text": [
      "Quantiles of nonzero entries (0%, 25%, 50%, 75%, 100%): [14999.14573    44963.8553106  53234.28972127 63237.18829739\n",
      " 77603.81110768]\n"
     ]
    }
   ],
   "source": [
    "quantiles = np.quantile(nongpc_scores, [0, 0.25, 0.5, 0.75, 1])\n",
    "\n",
    "print(f\"Quantiles of nonzero entries (0%, 25%, 50%, 75%, 100%): {quantiles}\")"
   ]
  },
  {
   "cell_type": "code",
   "execution_count": 32,
   "id": "61c6ec2f",
   "metadata": {},
   "outputs": [
    {
     "data": {
      "image/png": "[encoded data removed]",
      "text/plain": [
       "<Figure size 1400x500 with 2 Axes>"
      ]
     },
     "metadata": {},
     "output_type": "display_data"
    }
   ],
   "source": [
    "import matplotlib.pyplot as plt\n",
    "import numpy as np\n",
    "\n",
    "# Example: assume you have both arrays\n",
    "# scores = np.array([...])\n",
    "# nongpc_scores = np.array([...])\n",
    "\n",
    "# Set up the figure with 2 subplots side-by-side\n",
    "fig, axes = plt.subplots(1, 2, figsize=(14, 5), sharey=True)  # sharey=True to use same y-axis scale\n",
    "\n",
    "# Determine common x-axis limits based on combined data\n",
    "all_scores = np.concatenate([scores, nongpc_scores])\n",
    "x_min, x_max = np.percentile(all_scores, [1, 99])  # Clip extreme outliers for better visualization\n",
    "\n",
    "# Plot histogram for scores (GPC genes)\n",
    "axes[0].hist(scores, bins=30, edgecolor='black')\n",
    "axes[0].set_title('GPC Gene Scores')\n",
    "axes[0].set_xlabel('Normalized Directed Laplacian Score')\n",
    "axes[0].set_ylabel('Frequency')\n",
    "axes[0].set_xlim(x_min, x_max)\n",
    "axes[0].grid(True)\n",
    "\n",
    "# Plot histogram for nongpc_scores (non-GPC genes)\n",
    "axes[1].hist(nongpc_scores, bins=30, edgecolor='black')\n",
    "axes[1].set_title('Non-GPC Gene Scores')\n",
    "axes[1].set_xlabel('Normalized Directed Laplacian Score')\n",
    "axes[1].set_xlim(x_min, x_max)\n",
    "axes[1].grid(True)\n",
    "\n",
    "plt.tight_layout()\n",
    "plt.show()\n"
   ]
  }
 ],
 "metadata": {
  "kernelspec": {
   "display_name": "scvelo",
   "language": "python",
   "name": "python3"
  },
  "language_info": {
   "codemirror_mode": {
    "name": "ipython",
    "version": 3
   },
   "file_extension": ".py",
   "mimetype": "text/x-python",
   "name": "python",
   "nbconvert_exporter": "python",
   "pygments_lexer": "ipython3",
   "version": "3.9.19"
  }
 },
 "nbformat": 4,
 "nbformat_minor": 5
}
