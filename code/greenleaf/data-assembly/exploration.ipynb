{
 "cells": [
  {
   "cell_type": "code",
   "execution_count": 11,
   "metadata": {},
   "outputs": [],
   "source": [
    "import scvelo as scv\n",
    "import anndata as ad\n",
    "import scanpy as sc\n",
    "import pandas as pd\n",
    "import mygene\n",
    "from scipy.sparse import csr_matrix, save_npz, load_npz"
   ]
  },
  {
   "cell_type": "code",
   "execution_count": 2,
   "metadata": {},
   "outputs": [],
   "source": [
    "# 1. Load raw counts\n",
    "#    Assuming `rna_counts.tsv` has a header row of cell names and the first column as gene names.\n",
    "counts = pd.read_csv(\"/home/users/kzlin/kzlinlab/data/greanleaf_brain_multiome/rna_counts.tsv.gz\", sep='\\t', index_col=0)\n",
    "\n",
    "# 2. Load cell metadata\n",
    "#    Assuming `rna_cell_metadata.txt` has rows of cells and columns for metadata,\n",
    "#    and that one of these columns (likely the index) matches the cell names in `counts.columns`.\n",
    "cell_metadata = pd.read_csv(\"/home/users/kzlin/kzlinlab/data/greanleaf_brain_multiome/rna_cell_metadata.txt\", sep='\\t', index_col=0)"
   ]
  },
  {
   "cell_type": "code",
   "execution_count": 9,
   "metadata": {},
   "outputs": [],
   "source": [
    "sparse_counts = csr_matrix(counts.values)"
   ]
  },
  {
   "cell_type": "code",
   "execution_count": 12,
   "metadata": {},
   "outputs": [],
   "source": [
    "# Suppose sparse_counts is a csr_matrix\n",
    "# Save it to a file\n",
    "save_npz(\"/home/users/kzlin/kzlinlab/projects/veloUncertainty/out/kevin/Writeup13/rna_sparse_counts.npz\", sparse_counts)\n",
    "\n",
    "# Later, you can load it back:\n",
    "# loaded_sparse_counts = load_npz(\"/home/users/kzlin/kzlinlab/projects/veloUncertainty/out/kevin/Writeup13/rna_sparse_counts.npz\")"
   ]
  },
  {
   "cell_type": "code",
   "execution_count": null,
   "metadata": {},
   "outputs": [],
   "source": [
    "pd.DataFrame(counts.index).to_csv(\"/home/users/kzlin/kzlinlab/projects/veloUncertainty/out/kevin/Writeup13/rna_gene_names.txt\", index=False, header=False)\n",
    "pd.DataFrame(counts.columns).to_csv(\"/home/users/kzlin/kzlinlab/projects/veloUncertainty/out/kevin/Writeup13/rna_cell_names.txt\", index=False, header=False)"
   ]
  },
  {
   "cell_type": "code",
   "execution_count": 14,
   "metadata": {},
   "outputs": [],
   "source": [
    "# 3. Load spliced and unspliced counts\n",
    "#    Similar structure to raw counts, with gene names as row index and cell names as column headers.\n",
    "spliced = pd.read_csv(\"/home/users/kzlin/kzlinlab/data/greanleaf_brain_multiome/rna_spliced_counts.tsv.gz\", sep='\\t', index_col=0)"
   ]
  },
  {
   "cell_type": "code",
   "execution_count": 19,
   "metadata": {},
   "outputs": [],
   "source": [
    "sparse_spliced_counts = csr_matrix(spliced.values)\n",
    "save_npz(\"/home/users/kzlin/kzlinlab/projects/veloUncertainty/out/kevin/Writeup13/rna_sparse_spliced_counts.npz\", sparse_spliced_counts)\n",
    "pd.DataFrame(spliced.index).to_csv(\"/home/users/kzlin/kzlinlab/projects/veloUncertainty/out/kevin/Writeup13/rna_spliced_gene_names.txt\", index=False, header=False)\n",
    "pd.DataFrame(spliced.columns).to_csv(\"/home/users/kzlin/kzlinlab/projects/veloUncertainty/out/kevin/Writeup13/rna_spliced_cell_names.txt\", index=False, header=False)"
   ]
  },
  {
   "cell_type": "code",
   "execution_count": 20,
   "metadata": {},
   "outputs": [],
   "source": [
    "unspliced = pd.read_csv(\"/home/users/kzlin/kzlinlab/data/greanleaf_brain_multiome/rna_unspliced_counts.tsv.gz\", sep='\\t', index_col=0)"
   ]
  },
  {
   "cell_type": "code",
   "execution_count": 21,
   "metadata": {},
   "outputs": [],
   "source": [
    "sparse_unspliced_counts = csr_matrix(unspliced.values)\n",
    "save_npz(\"/home/users/kzlin/kzlinlab/projects/veloUncertainty/out/kevin/Writeup13/rna_sparse_unspliced_counts.npz\", sparse_unspliced_counts)\n",
    "pd.DataFrame(unspliced.index).to_csv(\"/home/users/kzlin/kzlinlab/projects/veloUncertainty/out/kevin/Writeup13/rna_unspliced_gene_names.txt\", index=False, header=False)\n",
    "pd.DataFrame(unspliced.columns).to_csv(\"/home/users/kzlin/kzlinlab/projects/veloUncertainty/out/kevin/Writeup13/rna_unspliced_cell_names.txt\", index=False, header=False)"
   ]
  }
 ],
 "metadata": {
  "kernelspec": {
   "display_name": "scvelo",
   "language": "python",
   "name": "python3"
  },
  "language_info": {
   "codemirror_mode": {
    "name": "ipython",
    "version": 3
   },
   "file_extension": ".py",
   "mimetype": "text/x-python",
   "name": "python",
   "nbconvert_exporter": "python",
   "pygments_lexer": "ipython3",
   "version": "3.9.19"
  }
 },
 "nbformat": 4,
 "nbformat_minor": 2
}
